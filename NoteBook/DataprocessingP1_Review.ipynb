{
  "cells": [
    {
      "cell_type": "code",
      "execution_count": null,
      "metadata": {
        "colab": {
          "base_uri": "https://localhost:8080/"
        },
        "id": "9Wt7ZQNdZANN",
        "outputId": "59f59c60-aba2-46d2-ab77-fa8f8d7fab0c"
      },
      "outputs": [
        {
          "output_type": "stream",
          "name": "stdout",
          "text": [
            "Collecting pyspark\n",
            "  Downloading pyspark-3.5.3.tar.gz (317.3 MB)\n",
            "\u001b[2K     \u001b[90m━━━━━━━━━━━━━━━━━━━━━━━━━━━━━━━━━━━━━━━━\u001b[0m \u001b[32m317.3/317.3 MB\u001b[0m \u001b[31m3.1 MB/s\u001b[0m eta \u001b[36m0:00:00\u001b[0m\n",
            "\u001b[?25h  Preparing metadata (setup.py) ... \u001b[?25l\u001b[?25hdone\n",
            "Requirement already satisfied: py4j==0.10.9.7 in /usr/local/lib/python3.10/dist-packages (from pyspark) (0.10.9.7)\n",
            "Building wheels for collected packages: pyspark\n",
            "  Building wheel for pyspark (setup.py) ... \u001b[?25l\u001b[?25hdone\n",
            "  Created wheel for pyspark: filename=pyspark-3.5.3-py2.py3-none-any.whl size=317840625 sha256=c95ba513b8ea87737447a56790e3342645a001f55d94dc06cf038953cf54d9d5\n",
            "  Stored in directory: /root/.cache/pip/wheels/1b/3a/92/28b93e2fbfdbb07509ca4d6f50c5e407f48dce4ddbda69a4ab\n",
            "Successfully built pyspark\n",
            "Installing collected packages: pyspark\n",
            "Successfully installed pyspark-3.5.3\n"
          ]
        }
      ],
      "source": [
        "!pip install pyspark"
      ]
    },
    {
      "cell_type": "code",
      "execution_count": null,
      "metadata": {
        "colab": {
          "base_uri": "https://localhost:8080/"
        },
        "id": "6wGKWU-iZT4y",
        "outputId": "7e0cb6ac-fc23-4396-d450-08edb6299773"
      },
      "outputs": [
        {
          "output_type": "stream",
          "name": "stdout",
          "text": [
            "Collecting findspark\n",
            "  Downloading findspark-2.0.1-py2.py3-none-any.whl.metadata (352 bytes)\n",
            "Downloading findspark-2.0.1-py2.py3-none-any.whl (4.4 kB)\n",
            "Installing collected packages: findspark\n",
            "Successfully installed findspark-2.0.1\n"
          ]
        }
      ],
      "source": [
        "!pip install findspark"
      ]
    },
    {
      "cell_type": "code",
      "execution_count": null,
      "metadata": {
        "colab": {
          "base_uri": "https://localhost:8080/"
        },
        "id": "9fyG_DI8ZJMq",
        "outputId": "2265ba21-5c7b-42f4-a9f1-f3bc27129b21"
      },
      "outputs": [
        {
          "output_type": "stream",
          "name": "stdout",
          "text": [
            "Requirement already satisfied: pyarrow in /usr/local/lib/python3.10/dist-packages (16.1.0)\n",
            "Requirement already satisfied: numpy>=1.16.6 in /usr/local/lib/python3.10/dist-packages (from pyarrow) (1.26.4)\n"
          ]
        }
      ],
      "source": [
        "\n",
        "!pip install pyarrow\n"
      ]
    },
    {
      "cell_type": "code",
      "execution_count": null,
      "metadata": {
        "id": "glBfjrR8Zrzi"
      },
      "outputs": [],
      "source": [
        "import findspark\n",
        "findspark.init()\n",
        "from pyspark.sql import SparkSession\n",
        "from pyspark.sql.functions import col\n",
        "from pyspark.sql.functions import *\n",
        "import time"
      ]
    },
    {
      "cell_type": "code",
      "execution_count": null,
      "metadata": {
        "id": "1MOwlc9cZv1R"
      },
      "outputs": [],
      "source": [
        "# Initialize SparkSession\n",
        "spark = SparkSession.builder.appName(\"CSVReader\").getOrCreate()"
      ]
    },
    {
      "cell_type": "code",
      "execution_count": null,
      "metadata": {
        "colab": {
          "base_uri": "https://localhost:8080/"
        },
        "id": "VMA6hRI_ZfLb",
        "outputId": "d5e19af8-cc52-4071-c350-73e8bd35b50b"
      },
      "outputs": [
        {
          "output_type": "stream",
          "name": "stdout",
          "text": [
            "Execution started at: 2024-10-11 23:54:45\n",
            "+--------------------+--------------------+--------------------+--------------------+-----+------+-----+----+--------------------+-------------------+\n",
            "|                 _id|           review_id|             user_id|         business_id|stars|useful|funny|cool|                text|               date|\n",
            "+--------------------+--------------------+--------------------+--------------------+-----+------+-----+----+--------------------+-------------------+\n",
            "|66ea4ea9e59c7c5b6...|KU_O5udG6zpxOg-Vc...|mh_-eMZ6K5RLWhZyI...|XQfwVwDr-v0ZS3_Cb...|    3|     0|    0|   0|If you decide to ...|2018-07-07 22:09:11|\n",
            "|66ea4ea9e59c7c5b6...|BiTunyQ73aT9WBnpR...|OyoGAe7OKpv6SyGZT...|7ATYjTIgM3jUlt4UM...|    5|     1|    0|   1|I've taken a lot ...|2012-01-03 15:28:18|\n",
            "|66ea4ea9e59c7c5b6...|saUsX_uimxRlCVr67...|8g_iMtfSiwikVnbP2...|YjUWPpI6HXG530lwP...|    3|     0|    0|   0|Family diner. Had...|2014-02-05 20:30:30|\n",
            "|66ea4ea9e59c7c5b6...|AqPFMleE6RsU23_au...|_7bHUi9Uuf5__HHc_...|kxX2SOes4o-D3ZQBk...|    5|     1|    0|   1|Wow!  Yummy, diff...|2015-01-04 00:01:03|\n",
            "|66ea4ea9e59c7c5b6...|Sx8TMOWLNuJBWer-0...|bcjbaE6dDog4jkNY9...|e4Vwtrqf-wpJfwesg...|    4|     1|    0|   1|Cute interior and...|2017-01-14 20:54:15|\n",
            "|66ea4ea9e59c7c5b6...|JrIxlS1TzJ-iCu79u...|eUta8W_HdHMXPzLBB...|04UD14gamNjLY0IDY...|    1|     1|    2|   1|I am a long term ...|2015-09-23 23:10:31|\n",
            "|66ea4ea9e59c7c5b6...|6AxgBCNX_PNTOxmbR...|r3zeYsv1XFBRA4dJp...|gmjsEdUsKpj9Xxu6p...|    5|     0|    2|   0|Loved this tour! ...|2015-01-03 23:21:18|\n",
            "|66ea4ea9e59c7c5b6...|_ZeMknuYdlQcUqng_...|yfFzsLmaWF2d4Sr0U...|LHSTtnW3YHCeUkRDG...|    5|     2|    0|   0|Amazingly amazing...|2015-08-07 02:29:16|\n",
            "|66ea4ea9e59c7c5b6...|ZKvDG2sBvHVdF5oBN...|wSTuiTk-sKNdcFypr...|B5XSoSG3SfvQGtKEG...|    3|     1|    1|   0|This easter inste...|2016-03-30 22:46:33|\n",
            "|66ea4ea9e59c7c5b6...|pUycOfUwM8vqX7KjR...|59MxRhNVhU9MYndMk...|gebiRewfieSdtt17P...|    3|     0|    0|   0|Had a party of 6 ...|2016-07-25 07:31:06|\n",
            "|66ea4ea9e59c7c5b6...|rGQRf8UafX7OTlMNN...|1WHRWwQmZOZDAhp2Q...|uMvVYRgGNXf5boolA...|    5|     2|    0|   0|My experience wit...|2015-06-21 14:48:06|\n",
            "|66ea4ea9e59c7c5b6...|l3Wk_mvAog6XANIuG...|ZbqSHbgCjzVAqaa7N...|EQ-TZ2eeD_E0BHuvo...|    4|     0|    0|   0|Locals recommende...|2015-08-19 14:31:45|\n",
            "|66ea4ea9e59c7c5b6...|XW_LfMv0fV21l9c6x...|9OAtfnWag-ajVxRbU...|lj-E32x9_FA7GmUrB...|    4|     0|    0|   0|Love going here f...|2014-06-27 22:44:01|\n",
            "|66ea4ea9e59c7c5b6...|8JFGBuHMoiNDyfcxu...|smOvOajNG0lS4Pq7d...|RZtGWDLCAtuipwaZ-...|    4|     0|    0|   0|Good food--loved ...|2009-10-14 19:57:14|\n",
            "|66ea4ea9e59c7c5b6...|UBp0zWyH60Hmw6Fsa...|4Uh27DgGzsp6PqrH9...|otQS34_MymijPTdNB...|    4|     0|    2|   0|The bun makes the...|2011-10-27 17:12:05|\n",
            "|66ea4ea9e59c7c5b6...|OAhBYw8IQ6wlfw1ow...|1C2lxzUo1Hyye4RFI...|BVndHaLihEYbr76Z0...|    5|     0|    0|   0|Great place for b...|2014-10-11 16:22:06|\n",
            "|66ea4ea9e59c7c5b6...|oyaMhzBSwfGgemSGu...|Dd1jQj7S-BFGqRbAp...|YtSqYv1Q_pOltsVPS...|    5|     0|    0|   0|Tremendous servic...|2013-06-24 11:21:25|\n",
            "|66ea4ea9e59c7c5b6...|LnGZB0fjfgeVDVz5I...|j2wlzrntrbKwyOcOi...|rBdG_23USc7DletfZ...|    4|     1|    0|   0|The hubby and I h...|2014-08-10 19:41:43|\n",
            "|66ea4ea9e59c7c5b6...|u2vzZaOqJ2feRshaa...|NDZvyYHTUWWu-kqgQ...|CLEWowfkj-wKYJlQD...|    5|     2|    0|   1|I go to blow bar ...|2016-03-07 00:02:18|\n",
            "|66ea4ea9e59c7c5b6...|Xs8Z8lmKkosqW5mw_...|IQsF3Rc6IgCzjVV9D...|eFvzHawVJofxSnD7T...|    5|     0|    0|   0|My absolute favor...|2014-11-12 15:30:27|\n",
            "+--------------------+--------------------+--------------------+--------------------+-----+------+-----+----+--------------------+-------------------+\n",
            "only showing top 20 rows\n",
            "\n",
            "Execution ended at: 2024-10-11 23:56:18\n",
            "Execution time: 93.61 seconds\n"
          ]
        }
      ],
      "source": [
        "# Start time\n",
        "start_time = time.time()\n",
        "print(f\"Execution started at: {time.strftime('%Y-%m-%d %H:%M:%S', time.localtime(start_time))}\")\n",
        "\n",
        "# Read the CSV data\n",
        "df = spark.read.csv(\"/content/drive/MyDrive/CSV/yelp_review.csv\", header=True, inferSchema=True)\n",
        "\n",
        "# Display the entire dataframe (use with caution for large datasets)\n",
        "df.show()\n",
        "\n",
        "# End time\n",
        "end_time = time.time()\n",
        "print(f\"Execution ended at: {time.strftime('%Y-%m-%d %H:%M:%S', time.localtime(end_time))}\")\n",
        "\n",
        "# Calculate and print the execution time\n",
        "execution_time = end_time - start_time\n",
        "print(f\"Execution time: {execution_time:.2f} seconds\")\n"
      ]
    },
    {
      "cell_type": "code",
      "execution_count": null,
      "metadata": {
        "colab": {
          "base_uri": "https://localhost:8080/"
        },
        "id": "hmKYkkpGa2ls",
        "outputId": "e04590f9-7f1c-448b-9c60-09c80b84cbbe"
      },
      "outputs": [
        {
          "output_type": "stream",
          "name": "stdout",
          "text": [
            "Total records in the dataframe: 6990280\n"
          ]
        }
      ],
      "source": [
        "# total records in the dataframe\n",
        "\n",
        "total_records = df.count()\n",
        "print(f\"Total records in the dataframe: {total_records}\")"
      ]
    },
    {
      "cell_type": "code",
      "execution_count": null,
      "metadata": {
        "colab": {
          "base_uri": "https://localhost:8080/"
        },
        "id": "SAQNWOozaX5O",
        "outputId": "ba9bfbfb-bc78-4e3d-96c7-7d6467f53c1d"
      },
      "outputs": [
        {
          "output_type": "stream",
          "name": "stdout",
          "text": [
            "+--------------------+--------------------+--------------------+-----+------+-----+----+--------------------+-------------------+\n",
            "|           review_id|             user_id|         business_id|stars|useful|funny|cool|                text|               date|\n",
            "+--------------------+--------------------+--------------------+-----+------+-----+----+--------------------+-------------------+\n",
            "|KU_O5udG6zpxOg-Vc...|mh_-eMZ6K5RLWhZyI...|XQfwVwDr-v0ZS3_Cb...|    3|     0|    0|   0|If you decide to ...|2018-07-07 22:09:11|\n",
            "|BiTunyQ73aT9WBnpR...|OyoGAe7OKpv6SyGZT...|7ATYjTIgM3jUlt4UM...|    5|     1|    0|   1|I've taken a lot ...|2012-01-03 15:28:18|\n",
            "|saUsX_uimxRlCVr67...|8g_iMtfSiwikVnbP2...|YjUWPpI6HXG530lwP...|    3|     0|    0|   0|Family diner. Had...|2014-02-05 20:30:30|\n",
            "|AqPFMleE6RsU23_au...|_7bHUi9Uuf5__HHc_...|kxX2SOes4o-D3ZQBk...|    5|     1|    0|   1|Wow!  Yummy, diff...|2015-01-04 00:01:03|\n",
            "|Sx8TMOWLNuJBWer-0...|bcjbaE6dDog4jkNY9...|e4Vwtrqf-wpJfwesg...|    4|     1|    0|   1|Cute interior and...|2017-01-14 20:54:15|\n",
            "|JrIxlS1TzJ-iCu79u...|eUta8W_HdHMXPzLBB...|04UD14gamNjLY0IDY...|    1|     1|    2|   1|I am a long term ...|2015-09-23 23:10:31|\n",
            "|6AxgBCNX_PNTOxmbR...|r3zeYsv1XFBRA4dJp...|gmjsEdUsKpj9Xxu6p...|    5|     0|    2|   0|Loved this tour! ...|2015-01-03 23:21:18|\n",
            "|_ZeMknuYdlQcUqng_...|yfFzsLmaWF2d4Sr0U...|LHSTtnW3YHCeUkRDG...|    5|     2|    0|   0|Amazingly amazing...|2015-08-07 02:29:16|\n",
            "|ZKvDG2sBvHVdF5oBN...|wSTuiTk-sKNdcFypr...|B5XSoSG3SfvQGtKEG...|    3|     1|    1|   0|This easter inste...|2016-03-30 22:46:33|\n",
            "|pUycOfUwM8vqX7KjR...|59MxRhNVhU9MYndMk...|gebiRewfieSdtt17P...|    3|     0|    0|   0|Had a party of 6 ...|2016-07-25 07:31:06|\n",
            "|rGQRf8UafX7OTlMNN...|1WHRWwQmZOZDAhp2Q...|uMvVYRgGNXf5boolA...|    5|     2|    0|   0|My experience wit...|2015-06-21 14:48:06|\n",
            "|l3Wk_mvAog6XANIuG...|ZbqSHbgCjzVAqaa7N...|EQ-TZ2eeD_E0BHuvo...|    4|     0|    0|   0|Locals recommende...|2015-08-19 14:31:45|\n",
            "|XW_LfMv0fV21l9c6x...|9OAtfnWag-ajVxRbU...|lj-E32x9_FA7GmUrB...|    4|     0|    0|   0|Love going here f...|2014-06-27 22:44:01|\n",
            "|8JFGBuHMoiNDyfcxu...|smOvOajNG0lS4Pq7d...|RZtGWDLCAtuipwaZ-...|    4|     0|    0|   0|Good food--loved ...|2009-10-14 19:57:14|\n",
            "|UBp0zWyH60Hmw6Fsa...|4Uh27DgGzsp6PqrH9...|otQS34_MymijPTdNB...|    4|     0|    2|   0|The bun makes the...|2011-10-27 17:12:05|\n",
            "|OAhBYw8IQ6wlfw1ow...|1C2lxzUo1Hyye4RFI...|BVndHaLihEYbr76Z0...|    5|     0|    0|   0|Great place for b...|2014-10-11 16:22:06|\n",
            "|oyaMhzBSwfGgemSGu...|Dd1jQj7S-BFGqRbAp...|YtSqYv1Q_pOltsVPS...|    5|     0|    0|   0|Tremendous servic...|2013-06-24 11:21:25|\n",
            "|LnGZB0fjfgeVDVz5I...|j2wlzrntrbKwyOcOi...|rBdG_23USc7DletfZ...|    4|     1|    0|   0|The hubby and I h...|2014-08-10 19:41:43|\n",
            "|u2vzZaOqJ2feRshaa...|NDZvyYHTUWWu-kqgQ...|CLEWowfkj-wKYJlQD...|    5|     2|    0|   1|I go to blow bar ...|2016-03-07 00:02:18|\n",
            "|Xs8Z8lmKkosqW5mw_...|IQsF3Rc6IgCzjVV9D...|eFvzHawVJofxSnD7T...|    5|     0|    0|   0|My absolute favor...|2014-11-12 15:30:27|\n",
            "+--------------------+--------------------+--------------------+-----+------+-----+----+--------------------+-------------------+\n",
            "only showing top 20 rows\n",
            "\n"
          ]
        }
      ],
      "source": [
        "# dropping the column _id\n",
        "\n",
        "df_review = df.drop('_id')\n",
        "df_review.show()"
      ]
    },
    {
      "cell_type": "code",
      "execution_count": null,
      "metadata": {
        "colab": {
          "base_uri": "https://localhost:8080/"
        },
        "id": "099pAj46DlZr",
        "outputId": "360d863f-7ee4-4d7e-a7c4-e057584bcb8a"
      },
      "outputs": [
        {
          "output_type": "stream",
          "name": "stdout",
          "text": [
            "If you decide to eat here, just be aware it is going to take about 2 hours from beginning to end. We have tried it multiple times, because I want to like it! I have been to it's other locations in NJ and never had a bad experience. \\n\\nThe food is good, but it takes a very long time to come out. The waitstaff is very young, but usually pleasant. We have just had too many experiences where we spent way too long waiting. We usually opt for another diner or restaurant on the weekends, in order to be done quicker.\n"
          ]
        }
      ],
      "source": [
        "\n",
        "# Print a valve in column \"text\"\n",
        "for row in df_review.select(\"text\").limit(1).collect():\n",
        "  print(row.text)\n"
      ]
    },
    {
      "cell_type": "code",
      "source": [
        "#  create two new columns by splitting date field to date and time,  maybe convert the original column to a timestamp after trimming  naming it date_trimmedand then, split and drop the date_trimmed\n",
        "\n",
        "from pyspark.sql.functions import to_timestamp, split\n",
        "\n",
        "# Assuming your date column is named 'date'\n",
        "# Convert the 'date' column to timestamp after trimming and name it 'date_trimmed'\n",
        "df_review = df_review.withColumn(\"date_trimmed\", to_timestamp(trim(col(\"date\")), \"yyyy-MM-dd HH:mm:ss\"))\n",
        "\n",
        "# Split the 'date_trimmed' column into 'date' and 'time' columns\n",
        "df_review = df_review.withColumn(\"date\", split(col(\"date_trimmed\"), \" \").getItem(0))\\\n",
        "                   .withColumn(\"time\", split(col(\"date_trimmed\"), \" \").getItem(1))\n",
        "\n",
        "# Drop the 'date_trimmed' column\n",
        "df_review = df_review.drop(\"date_trimmed\")\n",
        "\n",
        "# Show the updated DataFrame\n",
        "df_review.show()\n"
      ],
      "metadata": {
        "colab": {
          "base_uri": "https://localhost:8080/"
        },
        "id": "0qhbwD7zANO0",
        "outputId": "662f162d-d59a-414b-d47f-ed62c22474cf"
      },
      "execution_count": null,
      "outputs": [
        {
          "output_type": "stream",
          "name": "stdout",
          "text": [
            "+--------------------+--------------------+--------------------+-----+------+-----+----+--------------------+----------+--------+\n",
            "|           review_id|             user_id|         business_id|stars|useful|funny|cool|                text|      date|    time|\n",
            "+--------------------+--------------------+--------------------+-----+------+-----+----+--------------------+----------+--------+\n",
            "|KU_O5udG6zpxOg-Vc...|mh_-eMZ6K5RLWhZyI...|XQfwVwDr-v0ZS3_Cb...|    3|     0|    0|   0|If you decide to ...|2018-07-07|22:09:11|\n",
            "|BiTunyQ73aT9WBnpR...|OyoGAe7OKpv6SyGZT...|7ATYjTIgM3jUlt4UM...|    5|     1|    0|   1|I've taken a lot ...|2012-01-03|15:28:18|\n",
            "|saUsX_uimxRlCVr67...|8g_iMtfSiwikVnbP2...|YjUWPpI6HXG530lwP...|    3|     0|    0|   0|Family diner. Had...|2014-02-05|20:30:30|\n",
            "|AqPFMleE6RsU23_au...|_7bHUi9Uuf5__HHc_...|kxX2SOes4o-D3ZQBk...|    5|     1|    0|   1|Wow!  Yummy, diff...|2015-01-04|00:01:03|\n",
            "|Sx8TMOWLNuJBWer-0...|bcjbaE6dDog4jkNY9...|e4Vwtrqf-wpJfwesg...|    4|     1|    0|   1|Cute interior and...|2017-01-14|20:54:15|\n",
            "|JrIxlS1TzJ-iCu79u...|eUta8W_HdHMXPzLBB...|04UD14gamNjLY0IDY...|    1|     1|    2|   1|I am a long term ...|2015-09-23|23:10:31|\n",
            "|6AxgBCNX_PNTOxmbR...|r3zeYsv1XFBRA4dJp...|gmjsEdUsKpj9Xxu6p...|    5|     0|    2|   0|Loved this tour! ...|2015-01-03|23:21:18|\n",
            "|_ZeMknuYdlQcUqng_...|yfFzsLmaWF2d4Sr0U...|LHSTtnW3YHCeUkRDG...|    5|     2|    0|   0|Amazingly amazing...|2015-08-07|02:29:16|\n",
            "|ZKvDG2sBvHVdF5oBN...|wSTuiTk-sKNdcFypr...|B5XSoSG3SfvQGtKEG...|    3|     1|    1|   0|This easter inste...|2016-03-30|22:46:33|\n",
            "|pUycOfUwM8vqX7KjR...|59MxRhNVhU9MYndMk...|gebiRewfieSdtt17P...|    3|     0|    0|   0|Had a party of 6 ...|2016-07-25|07:31:06|\n",
            "|rGQRf8UafX7OTlMNN...|1WHRWwQmZOZDAhp2Q...|uMvVYRgGNXf5boolA...|    5|     2|    0|   0|My experience wit...|2015-06-21|14:48:06|\n",
            "|l3Wk_mvAog6XANIuG...|ZbqSHbgCjzVAqaa7N...|EQ-TZ2eeD_E0BHuvo...|    4|     0|    0|   0|Locals recommende...|2015-08-19|14:31:45|\n",
            "|XW_LfMv0fV21l9c6x...|9OAtfnWag-ajVxRbU...|lj-E32x9_FA7GmUrB...|    4|     0|    0|   0|Love going here f...|2014-06-27|22:44:01|\n",
            "|8JFGBuHMoiNDyfcxu...|smOvOajNG0lS4Pq7d...|RZtGWDLCAtuipwaZ-...|    4|     0|    0|   0|Good food--loved ...|2009-10-14|19:57:14|\n",
            "|UBp0zWyH60Hmw6Fsa...|4Uh27DgGzsp6PqrH9...|otQS34_MymijPTdNB...|    4|     0|    2|   0|The bun makes the...|2011-10-27|17:12:05|\n",
            "|OAhBYw8IQ6wlfw1ow...|1C2lxzUo1Hyye4RFI...|BVndHaLihEYbr76Z0...|    5|     0|    0|   0|Great place for b...|2014-10-11|16:22:06|\n",
            "|oyaMhzBSwfGgemSGu...|Dd1jQj7S-BFGqRbAp...|YtSqYv1Q_pOltsVPS...|    5|     0|    0|   0|Tremendous servic...|2013-06-24|11:21:25|\n",
            "|LnGZB0fjfgeVDVz5I...|j2wlzrntrbKwyOcOi...|rBdG_23USc7DletfZ...|    4|     1|    0|   0|The hubby and I h...|2014-08-10|19:41:43|\n",
            "|u2vzZaOqJ2feRshaa...|NDZvyYHTUWWu-kqgQ...|CLEWowfkj-wKYJlQD...|    5|     2|    0|   1|I go to blow bar ...|2016-03-07|00:02:18|\n",
            "|Xs8Z8lmKkosqW5mw_...|IQsF3Rc6IgCzjVV9D...|eFvzHawVJofxSnD7T...|    5|     0|    0|   0|My absolute favor...|2014-11-12|15:30:27|\n",
            "+--------------------+--------------------+--------------------+-----+------+-----+----+--------------------+----------+--------+\n",
            "only showing top 20 rows\n",
            "\n"
          ]
        }
      ]
    },
    {
      "cell_type": "code",
      "source": [
        "# write it as a csv in /content/drive/MyDrive/ProcessedCSV named review.csv\n",
        "\n",
        "# Write the DataFrame to a CSV file in Google Drive\n",
        "df_review.write.csv(\"/content/drive/MyDrive/ProcessedCSV/review.csv\", header=True)\n"
      ],
      "metadata": {
        "id": "qq4vxIBRBPqV"
      },
      "execution_count": null,
      "outputs": []
    },
    {
      "cell_type": "code",
      "execution_count": null,
      "metadata": {
        "id": "rcHyrKs1gYUb"
      },
      "outputs": [],
      "source": []
    }
  ],
  "metadata": {
    "accelerator": "GPU",
    "colab": {
      "gpuType": "T4",
      "provenance": [],
      "mount_file_id": "14RNdYGKIo0mYPAZwvH4rkcNWGMBtmxXH",
      "authorship_tag": "ABX9TyODofy+zMMyMvRSPGbOC+/R"
    },
    "kernelspec": {
      "display_name": "Python 3",
      "name": "python3"
    },
    "language_info": {
      "name": "python"
    }
  },
  "nbformat": 4,
  "nbformat_minor": 0
}