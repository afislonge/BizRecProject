{
  "cells": [
    {
      "cell_type": "markdown",
      "metadata": {
        "id": "view-in-github",
        "colab_type": "text"
      },
      "source": [
        "<a href=\"https://colab.research.google.com/github/JoelTomyGeorge/BizRecProject/blob/main/Merge_CSVs.ipynb\" target=\"_parent\"><img src=\"https://colab.research.google.com/assets/colab-badge.svg\" alt=\"Open In Colab\"/></a>"
      ]
    },
    {
      "cell_type": "code",
      "execution_count": null,
      "metadata": {
        "colab": {
          "base_uri": "https://localhost:8080/"
        },
        "id": "9Wt7ZQNdZANN",
        "outputId": "e92f8c94-1209-4d73-ba8e-2be0a7ceaa8d"
      },
      "outputs": [
        {
          "output_type": "stream",
          "name": "stdout",
          "text": [
            "Requirement already satisfied: pyspark in /usr/local/lib/python3.10/dist-packages (3.5.3)\n",
            "Requirement already satisfied: py4j==0.10.9.7 in /usr/local/lib/python3.10/dist-packages (from pyspark) (0.10.9.7)\n"
          ]
        }
      ],
      "source": [
        "!pip install pyspark"
      ]
    },
    {
      "cell_type": "code",
      "execution_count": null,
      "metadata": {
        "colab": {
          "base_uri": "https://localhost:8080/"
        },
        "id": "6wGKWU-iZT4y",
        "outputId": "c2d21205-22bf-46ee-b43b-4b61924fa76d"
      },
      "outputs": [
        {
          "output_type": "stream",
          "name": "stdout",
          "text": [
            "Requirement already satisfied: findspark in /usr/local/lib/python3.10/dist-packages (2.0.1)\n"
          ]
        }
      ],
      "source": [
        "!pip install findspark"
      ]
    },
    {
      "cell_type": "code",
      "execution_count": null,
      "metadata": {
        "colab": {
          "base_uri": "https://localhost:8080/"
        },
        "id": "9fyG_DI8ZJMq",
        "outputId": "189994db-d4ec-42f8-e6f8-cf73284ec2a5"
      },
      "outputs": [
        {
          "output_type": "stream",
          "name": "stdout",
          "text": [
            "Requirement already satisfied: pyarrow in /usr/local/lib/python3.10/dist-packages (16.1.0)\n",
            "Requirement already satisfied: numpy>=1.16.6 in /usr/local/lib/python3.10/dist-packages (from pyarrow) (1.26.4)\n"
          ]
        }
      ],
      "source": [
        "\n",
        "!pip install pyarrow\n"
      ]
    },
    {
      "cell_type": "code",
      "execution_count": null,
      "metadata": {
        "id": "glBfjrR8Zrzi"
      },
      "outputs": [],
      "source": [
        "import findspark\n",
        "findspark.init()\n",
        "from pyspark.sql import SparkSession\n",
        "from pyspark.sql.functions import col\n",
        "from pyspark.sql.functions import *\n",
        "import time"
      ]
    },
    {
      "cell_type": "code",
      "execution_count": null,
      "metadata": {
        "id": "gfR_NVF041Nm"
      },
      "outputs": [],
      "source": [
        "# from google.colab import drive\n",
        "# drive.mount('/content/drive')\n"
      ]
    },
    {
      "cell_type": "code",
      "execution_count": null,
      "metadata": {
        "id": "1MOwlc9cZv1R"
      },
      "outputs": [],
      "source": [
        "# Initialize SparkSession\n",
        "spark = SparkSession.builder.appName(\"CSVReader\").getOrCreate()"
      ]
    },
    {
      "cell_type": "code",
      "execution_count": null,
      "metadata": {
        "id": "R_asbSHFCiPO"
      },
      "outputs": [],
      "source": [
        "# prompt: read /content/drive/MyDrive/ProcessedCSV/business.csv, make sure everythings in memory, also print first 2 rec\n",
        "\n",
        "df_business = spark.read.csv(\"/content/drive/MyDrive/ProcessedCSV/business.csv\", header=True, inferSchema=True)\n",
        "df_business = df_business.withColumnRenamed(\"stars\",\"stars_bus\" ).withColumnRenamed(\"name\",\"bus_name\" ).withColumnRenamed(\"review_count\",\"bus_review_count\").cache()\n",
        "# df_business.show(2)\n"
      ]
    },
    {
      "cell_type": "code",
      "execution_count": null,
      "metadata": {
        "id": "sY291bmaDIcw"
      },
      "outputs": [],
      "source": [
        "df_user = spark.read.csv(\"/content/drive/MyDrive/ProcessedCSV/user.csv\", header=True, inferSchema=True)\n",
        "df_user = df_user.withColumnRenamed(\"cool\",\"cool_usr\" ).withColumnRenamed(\"funny\",\"funny_usr\" ).withColumnRenamed(\"useful\",\"useful_usr\").withColumnRenamed(\"name\",\"usr_name\")\n",
        "df_user = df_user.drop(\"date\", \"time\").cache()\n",
        "# df_user.show(2)"
      ]
    },
    {
      "cell_type": "code",
      "execution_count": null,
      "metadata": {
        "id": "9WzMux-1DaXo"
      },
      "outputs": [],
      "source": [
        "df_review = spark.read.csv(\"/content/drive/MyDrive/ProcessedCSV/review.csv\", header=True, inferSchema=True)\n",
        "df_review = df_review.withColumnRenamed(\"cool\",\"cool_rev\" ).withColumnRenamed(\"funny\",\"funny_rev\" ).withColumnRenamed(\"useful\",\"useful_rev\" ).withColumnRenamed(\"text\",\"rev_text\" ).withColumnRenamed(\"stars\",\"stars_rev\")\n",
        "df_review = df_review.drop(\"date\", \"time\").cache()\n",
        "# df_review.show(2)"
      ]
    },
    {
      "cell_type": "code",
      "execution_count": null,
      "metadata": {
        "id": "1oATjKulDiL6"
      },
      "outputs": [],
      "source": [
        "df_tip = spark.read.csv(\"/content/drive/MyDrive/ProcessedCSV/tip.csv\", header=True, inferSchema=True)\n",
        "df_tip = df_tip.withColumnRenamed(\"text\",\"tip_text\" )\n",
        "df_tip = df_tip.drop(\"date\", \"time\").cache()\n",
        "# df_tip.show(2)"
      ]
    },
    {
      "cell_type": "code",
      "execution_count": null,
      "metadata": {
        "id": "7JUzafl2Douq"
      },
      "outputs": [],
      "source": [
        "df_checkin = spark.read.csv(\"/content/drive/MyDrive/ProcessedCSV/checkin.csv\", header=True, inferSchema=True)\n",
        "df_checkin = df_checkin.drop(\"date\", \"time\").cache()\n",
        "# df_checkin.show(2)"
      ]
    },
    {
      "cell_type": "code",
      "execution_count": null,
      "metadata": {
        "id": "RBcK1ihoDu7o"
      },
      "outputs": [],
      "source": [
        "# prompt: I need to merge all this data frame to a simgle one, business has business_id, user has user_id, review has review_id, user_id, and business_id,  tip has user_id and business_id , checkin has business_id\n",
        "\n",
        "# Merge review with business and user\n",
        "df_merged_rev_bus = df_review.join(df_business, on='business_id', how='inner')\n",
        "df_business.unpersist(blocking=True)\n",
        "df_review.unpersist(blocking=True)\n",
        "\n",
        "#writing as a parquet file\n",
        "df_merged_rev_bus.write.mode(\"overwrite\").parquet(\"/content/drive/MyDrive/parquetfiles/merged_rev_bus.parquet\")\n",
        "\n",
        "#reading the parquet saved before\n",
        "df_merged_rev_bus = spark.read.parquet(\"/content/drive/MyDrive/parquetfiles/merged_rev_bus.parquet\")\n",
        "#joining the user to this\n",
        "df_merged_rev_bus_usr = df_merged_rev_bus.join(df_user, on='user_id', how='inner')\n",
        "df_user.unpersist(blocking=True)\n",
        "# writing the new parquet\n",
        "df_merged_rev_bus_usr.write.mode(\"overwrite\").parquet(\"/content/drive/MyDrive/parquetfiles/merged_rev_bus_usr.parquet\")\n",
        "\n",
        "# reading the parquet\n",
        "df_merged_rev_bus_usr = spark.read.parquet(\"/content/drive/MyDrive/parquetfiles/merged_rev_bus_usr.parquet\")\n",
        "# Merge tip with the merged dataframe\n",
        "df_merged_rev_bus_usr_tip = df_merged_rev_bus_usr.join(df_tip, on=['user_id', 'business_id'], how='left')\n",
        "df_tip.unpersist(blocking=True)\n",
        "# writing the new parquet\n",
        "df_merged_rev_bus_usr_tip.write.mode(\"overwrite\").parquet(\"/content/drive/MyDrive/parquetfiles/merged_rev_bus_usr_tip.parquet\")\n",
        "\n",
        "#reading the parquet\n",
        "df_merged_rev_bus_usr_tip = spark.read.parquet(\"/content/drive/MyDrive/parquetfiles/merged_rev_bus_usr_tip.parquet\")\n",
        "# Merge checkin with the merged dataframe\n",
        "df_merged_rev_bus_usr_tip_checkin = df_merged_rev_bus_usr_tip.join(df_checkin, on='business_id', how='left').cache()\n",
        "df_checkin.unpersist(blocking=True)\n",
        "# writing the new parquet\n",
        "df_merged_rev_bus_usr_tip_checkin.write.mode(\"overwrite\").parquet(\"/content/drive/MyDrive/parquetfiles/finalmerged.parquet\")\n",
        "\n",
        "# df_merged.show(2)\n"
      ]
    },
    {
      "cell_type": "code",
      "execution_count": null,
      "metadata": {
        "id": "b_-aq2j8coxd"
      },
      "outputs": [],
      "source": [
        "# prompt: write merged as a parquet file\n",
        "# Initialize SparkSession\n",
        "\n",
        "# df_merged.write.mode(\"overwrite\").parquet(\"/content/drive/MyDrive/mergedcsv/merged_data.parquet\")\n"
      ]
    },
    {
      "cell_type": "code",
      "execution_count": null,
      "metadata": {
        "id": "DhqcBvFGjdBM"
      },
      "outputs": [],
      "source": [
        "# prompt: read and display 2 rows of the parquet\n",
        "\n",
        "# df_parquet = spark.read.parquet(\"/content/drive/MyDrive/ProcessedCSV/merged_data_parquet.parquet\")\n",
        "# df_parquet.show(2)\n"
      ]
    },
    {
      "cell_type": "code",
      "execution_count": null,
      "metadata": {
        "id": "szfHJcmDFx8R"
      },
      "outputs": [],
      "source": [
        "# prompt: write this merged df in /content/drive/MyDrive/ProcessedCSV named merged.csv\n",
        "\n",
        "df_merged.write.mode(\"overwrite\").csv(\"/content/drive/MyDrive/ProcessedCSV/merged.csv\", header=True)\n"
      ]
    },
    {
      "cell_type": "code",
      "execution_count": null,
      "metadata": {
        "id": "TMEdfGbcHAjh",
        "colab": {
          "base_uri": "https://localhost:8080/"
        },
        "outputId": "4248e493-ad46-4d22-e655-060aaeea31a2"
      },
      "outputs": [
        {
          "output_type": "stream",
          "name": "stdout",
          "text": [
            "+--------------------+--------------------+--------------------+---------+----------+---------+--------+--------------------+--------------------+--------------------+--------------+-----+-----------+-------------+--------------+---------+----------------+-------+----------------------------+--------------------+-----+-------------------------------------+------------+-------------+---------------+--------------+------------+--------------+----------------------+---------------------------------+--------------------+-----------------------------+------------------------------+-----------------+---------------+--------------------------+-------------------------------+--------------------+-------------------------+----------------+----------------------------------+----------------------+------------+------------------+----------------------+----------------------------+--------------------+----------------------------------+-----------------------------------+--------------------+----------+---------------------+----------------------+---------------------------------+------------------+--------------------+-------------------------+---------------------------+---------------------+---------------+------------------+----------------------+----------------------------+----------------------+------------------------------------+----------------------+------------------------------+---------+------------+----------+---------+--------+--------------------+--------------------+----+-------------+--------------+---------------+------------------+---------------+---------------+---------------+----------------+---------------+----------------+-----------------+-----------------+-------------+-----------+---------+----------------+-------------------+\n",
            "|         business_id|             user_id|           review_id|stars_rev|useful_rev|funny_rev|cool_rev|            rev_text|            bus_name|             address|          city|state|postal_code|     latitude|     longitude|stars_bus|bus_review_count|is_open|attributes.ByAppointmentOnly|          categories|hours|attributes.BusinessAcceptsCreditCards|hours.Monday|hours.Tuesday|hours.Wednesday|hours.Thursday|hours.Friday|hours.Saturday|attributes.BikeParking|attributes.RestaurantsPriceRange2|attributes.CoatCheck|attributes.RestaurantsTakeOut|attributes.RestaurantsDelivery|attributes.Caters|attributes.WiFi|attributes.BusinessParking|attributes.WheelchairAccessible|attributes.HappyHour|attributes.OutdoorSeating|attributes.HasTV|attributes.RestaurantsReservations|attributes.DogsAllowed|hours.Sunday|attributes.Alcohol|attributes.GoodForKids|attributes.RestaurantsAttire| attributes.Ambience|attributes.RestaurantsTableService|attributes.RestaurantsGoodForGroups|attributes.DriveThru|attributes|attributes.NoiseLevel|attributes.GoodForMeal|attributes.BusinessAcceptsBitcoin|attributes.Smoking|    attributes.Music|attributes.GoodForDancing|attributes.AcceptsInsurance|attributes.BestNights|attributes.BYOB|attributes.Corkage|attributes.BYOBCorkage|attributes.HairSpecializesIn|attributes.Open24Hours|attributes.RestaurantsCounterService|attributes.AgesAllowed|attributes.DietaryRestrictions| usr_name|review_count|useful_usr|funny_usr|cool_usr|               elite|             friends|fans|average_stars|compliment_hot|compliment_more|compliment_profile|compliment_cute|compliment_list|compliment_note|compliment_plain|compliment_cool|compliment_funny|compliment_writer|compliment_photos|total_friends|elite_count| tip_text|compliment_count|total_checkin_count|\n",
            "+--------------------+--------------------+--------------------+---------+----------+---------+--------+--------------------+--------------------+--------------------+--------------+-----+-----------+-------------+--------------+---------+----------------+-------+----------------------------+--------------------+-----+-------------------------------------+------------+-------------+---------------+--------------+------------+--------------+----------------------+---------------------------------+--------------------+-----------------------------+------------------------------+-----------------+---------------+--------------------------+-------------------------------+--------------------+-------------------------+----------------+----------------------------------+----------------------+------------+------------------+----------------------+----------------------------+--------------------+----------------------------------+-----------------------------------+--------------------+----------+---------------------+----------------------+---------------------------------+------------------+--------------------+-------------------------+---------------------------+---------------------+---------------+------------------+----------------------+----------------------------+----------------------+------------------------------------+----------------------+------------------------------+---------+------------+----------+---------+--------+--------------------+--------------------+----+-------------+--------------+---------------+------------------+---------------+---------------+---------------+----------------+---------------+----------------+-----------------+-----------------+-------------+-----------+---------+----------------+-------------------+\n",
            "|QHWYlmVbLC3K6eglW...|---2PmXbF47D870st...|yA_38sOvL7DiBR4_E...|        5|         0|        0|       0|Dined here last n...|                Datz|  2616 S MacDill Ave|         Tampa|   FL|      33629|    27.921942|   -82.4932535|      4.0|            3260|      1|                       False|Burgers, Bars, Re...| NULL|                                 True|     0:0-0:0|     7:0-22:0|       7:0-22:0|      7:0-22:0|    7:0-23:0|     8:30-23:0|                  True|                                2|                NULL|                         True|                          True|             True|        u'free'|      {'garage': False,...|                           True|                True|                     True|            True|                              True|                  True|   8:30-21:0|       u'full_bar'|                  True|                   u'casual'|{'touristy': Fals...|                              True|                               True|                True|      NULL|           u'average'|  {'dessert': None,...|                            False|              NULL|{'dj': False, 'ba...|                    false|                       NULL| {'monday': False,...|          False|              NULL|                  NULL|                        NULL|                  NULL|                                NULL|                  NULL|                          NULL|    Susan|          36|        63|        4|      36|                NULL|o9QkuHIyxmqbORF7P...|   3|         4.98|             0|              0|                 0|              0|              0|              0|               2|              0|               0|                2|                0|          420|          0|     NULL|            NULL|               6820|\n",
            "|qAnKc-pentc9UUQvt...|--9h63HDrtX01Wg3t...|sh8ReL9iu7YUAxpPf...|        5|         0|        0|       0|The staff are all...|NextCare Urgent Care|9525 E Old Spanis...|        Tucson|   AZ|      85748|   32.2083419|  -110.7888894|      2.5|              80|      1|                       False|Medical Centers, ...| NULL|                                 True|     8:0-0:0|      8:0-0:0|        8:0-0:0|      8:0-16:0|     8:0-0:0|       8:0-0:0|                  NULL|                             NULL|                NULL|                         NULL|                          NULL|             NULL|           NULL|                      NULL|                           NULL|                NULL|                     NULL|            NULL|                              NULL|                  NULL|     8:0-0:0|              NULL|                  NULL|                        NULL|                NULL|                              NULL|                               NULL|                NULL|      NULL|                 NULL|                  NULL|                             NULL|              NULL|                NULL|                     NULL|                       NULL|                 NULL|           NULL|              NULL|                  NULL|                        NULL|                  NULL|                                NULL|                  NULL|                          NULL|  Natalie|           4|         1|        0|       0|                NULL|                None|   0|          4.0|             0|              0|                 0|              0|              0|              0|               0|              0|               0|                0|                0|            1|          0|     NULL|            NULL|                 52|\n",
            "|4ZZR2Ykk4jo7oiGgQ...|--U6F4iI3ABK6IVCC...|Wzeye8TCluBjSsCdM...|        5|         3|        0|       0|Great,  new equip...|          LA Fitness|9350 E Golf Links Rd|        Tucson|   AZ|      85730|   32.1901098|  -110.7928939|      3.5|              65|      1|                       False|Gyms, Trainers, F...| NULL|                                 True|     0:0-0:0|     5:0-23:0|       5:0-23:0|      5:0-23:0|    8:0-18:0|      8:0-18:0|                  True|                             NULL|                NULL|                         NULL|                          NULL|             NULL|           NULL|      {'garage': False,...|                           NULL|                NULL|                     NULL|            NULL|                              NULL|                  NULL|    8:0-20:0|              NULL|                  True|                        NULL|                NULL|                              NULL|                               NULL|                NULL|      NULL|                 NULL|                  NULL|                             NULL|              NULL|                NULL|                     NULL|                       NULL|                 NULL|           NULL|              NULL|                  NULL|                        NULL|                  NULL|                                NULL|                  NULL|                          NULL|     Matt|          31|        44|        9|      11|                NULL|N5YRo5ax4X7pcqmvN...|   2|         3.97|             0|              0|                 0|              0|              0|              0|               0|              0|               0|                0|                0|           84|          0|     NULL|            NULL|               1559|\n",
            "|9PZxjhTIU7OgPIzuG...|--cjT1ICjm_ajiwSK...|FN8qUbNlb9ulfoGtn...|        4|         0|        0|       0|\"The decor in thi...|              El Vez|       121 S 13th St|  Philadelphia|   PA|      19107|39.9497020026|-75.1617702842|      4.0|            3187|      1|                        NULL|Lounges, Bars, Ni...| NULL|                                 True|     0:0-0:0|    12:0-22:0|      12:0-22:0|     12:0-22:0|   16:0-0:30|     16:0-22:0|                  True|                                2|                True|                         True|                          True|            False|          u'no'|      {'garage': False,...|                           NULL|                True|                     True|           False|                              True|                 False|   12:0-22:0|        'full_bar'|                  True|                    'casual'|{'touristy': Fals...|                              True|                               True|                None|      NULL|              u'loud'|  {'dessert': False...|                             NULL|              NULL|                NULL|                     NULL|                       NULL|                 NULL|           NULL|             False|                  'no'|                        NULL|                  NULL|                                NULL|                  NULL|                          NULL|   Shayla|           7|         4|        2|       1|                NULL|                None|   0|         3.71|             0|              0|                 0|              0|              0|              0|               0|              0|               0|                0|                0|            1|          0|     NULL|            NULL|               5354|\n",
            "|ZbjlLNcnTpemOsqX9...|--m6DE1KNxjSyL6LF...|8WQkufjVXtqjuHJ3f...|        3|         0|        0|       0|The food was real...|Mad Beach Craft B...|  12945 Village Blvd| Madeira Beach|   FL|      33708|27.7863139549|-82.7832909586|      4.0|             526|      1|                       False|Nightlife, Brewer...| NULL|                                 True|     0:0-0:0|    12:0-21:0|      12:0-21:0|     12:0-21:0|   11:0-21:0|     11:0-23:0|                  True|                                2|                NULL|                         True|                          True|            False|         'free'|      {'garage': True, ...|                           True|               False|                     True|            True|                             False|                  True|   11:0-21:0|   'beer_and_wine'|                  True|                    'casual'|{'touristy': Fals...|                              True|                               True|                True|      NULL|            'average'|  {'dessert': False...|                            False|              NULL|                NULL|                     NULL|                       NULL|                 NULL|          False|              NULL|                  NULL|                        NULL|                  NULL|                                NULL|                  NULL|                          NULL|   Steavi|          29|        12|        0|       2|                NULL|                None|   0|         3.97|             0|              0|                 0|              0|              0|              0|               0|              0|               0|                0|                0|            1|          0|     NULL|            NULL|                695|\n",
            "|wbHYWJ9BHAIBvD-J0...|--yvzhW9sm-4DGw72...|pGc6oi-9Tam9Ey40f...|        1|         1|        0|       0|My wife and I joi...|     Kennedy Fitness| 1432 Marlton Pike E|   Cherry Hill|   NJ|      08034|      39.9115|     -74.99103|      2.0|              58|      0|                        True|Active Life, Fitn...| NULL|                                 True|    5:0-22:0|     5:0-22:0|       5:0-22:0|      5:0-22:0|    5:0-22:0|      7:0-19:0|                  True|                             NULL|                NULL|                         NULL|                          NULL|             NULL|           NULL|      {'garage': False,...|                           True|                NULL|                     NULL|            NULL|                              NULL|                 False|    8:0-17:0|              NULL|                 False|                        NULL|                NULL|                              NULL|                               NULL|                NULL|      NULL|                 NULL|                  NULL|                             NULL|              NULL|                NULL|                     NULL|                       NULL|                 NULL|           NULL|              NULL|                  NULL|                        NULL|                  NULL|                                NULL|                  NULL|                          NULL|    Perry|           5|         1|        1|       0|                NULL|                None|   0|          1.2|             0|              0|                 0|              0|              0|              0|               0|              0|               0|                0|                0|            1|          0|     NULL|            NULL|                428|\n",
            "|zea3cUOcoQ_wGynJk...|-0A2QLxO4XfTSVlbS...|mFgKFwWrEohUXsX4y...|        5|         0|        0|       1|Good food. Nice p...|New China Restaurant|    146 Mariner Blvd|   Spring Hill|   FL|      34609|28.4350613055|-82.5465548323|      3.5|              13|      1|                        NULL|Chinese, Restaurants| NULL|                                 True|   11:0-22:0|    11:0-22:0|      11:0-22:0|     11:0-22:0|  11:0-22:30|    11:0-22:30|                 False|                                1|                NULL|                         True|                         False|            False|           NULL|      {'garage': False,...|                           NULL|                NULL|                     None|            True|                             False|                  NULL|   12:0-22:0|            'none'|                  True|                    'casual'|{'touristy': Fals...|                              NULL|                              False|                NULL|      NULL|              'quiet'|  {'dessert': False...|                             NULL|              NULL|                NULL|                     NULL|                       NULL|                 NULL|           NULL|              NULL|                  NULL|                        NULL|                  NULL|                                NULL|                  NULL|                          NULL|     Jack|           5|         0|        1|       1|                NULL|                None|   0|          3.2|             0|              0|                 0|              0|              0|              0|               0|              0|               0|                0|                0|            1|          0|Eat here.|               0|                 15|\n",
            "|_PxWQoKAfyoNtEaPs...|-0BRo2qsskTQk6Zi3...|4wrMdvKB3bC7FpYei...|        5|         1|        0|       1|Jeana Oh is amazi...|Mira Bella Salon ...|1819 Cliff Dr, Ste B| Santa Barbara|   CA|      93109|   34.4010923|  -119.7214959|      3.5|              41|      1|                       False|Waxing, Hair Remo...| NULL|                                 True|     0:0-0:0|     9:0-19:0|       9:0-19:0|      9:0-19:0|    9:0-19:0|      9:0-17:0|                  True|                                2|                NULL|                         NULL|                          NULL|             NULL|           NULL|      {'garage': False,...|                           True|                NULL|                     NULL|            NULL|                              NULL|                  NULL|        NULL|              NULL|                  True|                        NULL|                NULL|                              NULL|                               NULL|                NULL|      NULL|                 NULL|                  NULL|                             NULL|              NULL|                NULL|                     NULL|                       NULL|                 NULL|           NULL|              NULL|                  NULL|                        NULL|                  NULL|                                NULL|                  NULL|                          NULL|      Lee|           8|         8|        1|       2|                NULL|                None|   0|         4.56|             0|              0|                 0|              0|              0|              0|               0|              0|               0|                0|                0|            1|          0|     NULL|            NULL|                 14|\n",
            "|LSRRsvRvqyIJxXB_p...|-0KosxqqMBYNfJ7Vu...|nDpz9Yl_pkQrmRJFT...|        2|         1|        0|       1|I recommend you d...|Lowe's Home Impro...|    630 Cowpath Road|      Lansdale|   PA|      19446|    40.247942|    -75.248306|      2.0|              21|      1|                        NULL|Shopping, Home & ...| NULL|                                 True|    6:0-21:0|     6:0-21:0|       6:0-21:0|      6:0-21:0|    6:0-21:0|      6:0-21:0|                  NULL|                                2|                NULL|                         None|                          None|             NULL|           NULL|      {'garage': False,...|                           NULL|                NULL|                     NULL|            NULL|                              NULL|                  NULL|    8:0-20:0|              NULL|                  NULL|                        NULL|                NULL|                              NULL|                               NULL|                NULL|      NULL|                 NULL|                  NULL|                             NULL|              NULL|                NULL|                     NULL|                       NULL|                 NULL|           NULL|              NULL|                  NULL|                        NULL|                  NULL|                                NULL|                  NULL|                          NULL|  Anthony|          52|       130|       18|       7|                NULL|N5DV2wRb5BTCJHUo5...|   0|         3.06|             0|              0|                 0|              0|              0|              3|               0|              0|               0|                1|                0|           58|          0|     NULL|            NULL|                 81|\n",
            "|WCdSajl5Q0qywpv7K...|-0KrCHEsOcjJ6N4k_...|C8eSgR4SsLSkC9Wy7...|        4|         2|        1|       1|When out of town ...|Sugarfire Smoke H...|  605 Washington Ave|   Saint Louis|   MO|      63101|   38.6304074|   -90.1895289|      4.0|            1113|      1|                        NULL|Sandwiches, Salad...| NULL|                                 True|   11:0-21:0|    11:0-21:0|      11:0-21:0|     11:0-21:0|   11:0-21:0|     11:0-21:0|                  True|                                2|                NULL|                         True|                          True|             True|           'no'|      {'garage': False,...|                           NULL|               False|                     None|            True|                             False|                 False|   11:0-21:0|        'full_bar'|                  True|                    'casual'|{'touristy': None...|                             False|                               True|                None|      NULL|           u'average'|  {'dessert': True,...|                             NULL|              NULL|                NULL|                     NULL|                       NULL|                 NULL|           NULL|              NULL|                  NULL|                        NULL|                  NULL|                                NULL|                  NULL|                          NULL|   Nicole|          62|        57|       10|      55|           2018,2019|PRPAbcAqK98BMIGmK...|   1|         4.03|             2|              0|                 0|              1|              0|              0|               3|              4|               4|                3|                0|            6|          2|     NULL|            NULL|               1343|\n",
            "|H9KNObMOKNZD73948...|-0WYHeZYcySNvNeFz...|n55IExaR9zeGdXewb...|        1|         0|        1|       0|This has been and...|Bowery Bayside by...|6301 S Westshore ...|         Tampa|   FL|      33616|27.8770223794|-82.5286011552|      2.5|              27|      1|                        NULL|Apartments, Home ...| NULL|                                False|   10:0-18:0|    10:0-18:0|      10:0-18:0|     10:0-18:0|   10:0-18:0|     10:0-17:0|                  NULL|                             NULL|                NULL|                         NULL|                          NULL|             NULL|           NULL|                      NULL|                           NULL|                NULL|                     NULL|            NULL|                              NULL|                  NULL|        NULL|              NULL|                  NULL|                        NULL|                NULL|                              NULL|                               NULL|                NULL|      NULL|                 NULL|                  NULL|                             NULL|              NULL|                NULL|                     NULL|                       NULL|                 NULL|           NULL|              NULL|                  NULL|                        NULL|                  NULL|                                NULL|                  NULL|                          NULL|Christina|           1|         0|        1|       0|                NULL|pXYrZRf3MaUQHJWTI...|   0|          1.0|             0|              0|                 0|              0|              0|              0|               0|              0|               0|                0|                0|          240|          0|     NULL|            NULL|                  2|\n",
            "|4LG0U_Gxc45-Fanbj...|-0YrXUvXz8112yHap...|duNismkzzZo3brl5n...|        2|         1|        0|       0|\"I've been here 3...|Four Day Ray Brewing|    11671 Lantern Rd|       Fishers|   IN|      46038|   39.9580802|   -86.0137119|      4.0|             644|      1|                       False|Restaurants, Food...| NULL|                                 True|     0:0-0:0|    11:0-22:0|      11:0-22:0|     11:0-22:0|   11:0-23:0|     11:0-23:0|                  True|                                2|                NULL|                         True|                          True|             True|        u'free'|      {'garage': True, ...|                           True|                True|                     True|            True|                              True|                  True|   11:0-21:0|        'full_bar'|                  True|                    'casual'|{'touristy': Fals...|                              True|                               True|                NULL|      NULL|           u'average'|  {'dessert': True,...|                            False|              NULL|                NULL|                    false|                       NULL|                 NULL|          False|              NULL|                  NULL|                        NULL|                  NULL|                                NULL|                  NULL|                          NULL|     Dale|         110|       150|       26|      73|      2015,2017,2018|5ADgo4z9FGFNCRg9r...|   4|         3.52|             6|              2|                 0|              0|              0|             12|               2|              9|               9|                5|                0|           16|          3|     NULL|            NULL|                979|\n",
            "|rOh8NovXVn48p8I-Z...|-0aZWYi2YicFaLxTr...|_nHdGnKoUpTOJOJWN...|        5|         8|        1|       4|De-li-cious! Came...|          sweetgreen|    1821 Chestnut St|  Philadelphia|   PA|      19103|   39.9518677|    -75.171174|      4.0|             213|      1|                        NULL|Vegan, Soup, Vege...| NULL|                                 True|     0:0-0:0|   10:30-20:0|     10:30-20:0|    10:30-20:0|  10:30-20:0|    11:30-20:0|                  True|                                2|                NULL|                         True|                          True|             True|         'free'|      {'garage': None, ...|                           NULL|                NULL|                    False|            True|                             False|                 False|  10:30-21:0|           u'none'|                  True|                    'casual'|{'touristy': Fals...|                             False|                               True|                NULL|      NULL|            'average'|  {'dessert': False...|                             NULL|              NULL|                NULL|                     NULL|                       NULL|                 NULL|           NULL|              NULL|                  NULL|                        NULL|                  NULL|                                NULL|                  NULL|                          NULL|    Linna|         429|       478|      104|     103|2012,2013,2014,20...|AcFItfjOplJZVO6XB...|  20|         3.47|             5|              1|                 0|              0|              0|              3|              15|             14|              14|               11|                0|           35|          9|     NULL|            NULL|                510|\n",
            "|pWEHpA2GgNiww0WGb...|-0gPgo2dX-CRRlXaJ...|jS8aLrT13uYPQQs8f...|        5|         0|        0|       0|Excellent service...|Crabby Bill's Fis...|10316 Roosevelt B...|St. Petersburg|   FL|      33716|   27.8659055|   -82.6427574|      4.5|              82|      0|                        NULL|Fish & Chips, Res...| NULL|                                 True|     0:0-0:0|    11:0-21:0|      11:0-21:0|     11:0-21:0|   11:0-21:0|     11:0-21:0|                  True|                                2|                NULL|                         True|                          True|             True|        u'free'|      {'garage': False,...|                           True|                True|                     None|            True|                             False|                 False|   11:0-21:0|  u'beer_and_wine'|                  NULL|                        NULL|{'touristy': None...|                             False|                               True|                NULL|      NULL|           u'average'|  {'dessert': None,...|                            False|              NULL|                NULL|                     NULL|                       NULL|                 NULL|          False|              NULL|                  NULL|                        NULL|                  NULL|                                NULL|                  NULL|                          NULL|        J|          38|        20|        7|       5|                NULL|                None|   1|         3.63|             0|              0|                 0|              0|              0|              0|               0|              0|               0|                0|                0|            1|          0|     NULL|            NULL|                 46|\n",
            "|ZIMdEfiP954EaLOX0...|-0invYStOTVSxOgA0...|td93CM8hl77v2hTr7...|        4|         2|        0|       0|i had to wait lon...|          Ghot Wingz|   2501 Gallatin Ave|     Nashville|   TN|      37206|     36.19521|    -86.743444|      4.0|              10|      0|                        NULL|Chicken Wings, Re...| NULL|                                 True|        NULL|         NULL|           NULL|          NULL|        NULL|          NULL|                  NULL|                                1|                NULL|                         True|                         False|             True|           NULL|                      NULL|                           NULL|                NULL|                    False|            True|                             False|                  NULL|        NULL|           u'none'|                  NULL|                   u'casual'|{'romantic': Fals...|                              NULL|                               True|                NULL|      NULL|             u'quiet'|                  NULL|                             NULL|              NULL|                NULL|                     NULL|                       NULL|                 NULL|           NULL|              NULL|                  NULL|                        NULL|                  NULL|                                NULL|                  NULL|                          NULL|    craig|           7|         9|        1|       1|                NULL|ff6fE0hxaaxs9lGmP...|   0|         2.71|             0|              1|                 0|              0|              0|              0|               0|              0|               0|                0|                0|          152|          0|     NULL|            NULL|                 12|\n",
            "|sihT-_DtwOdnDDDJb...|-0jW-rb_xOc81KDXl...|FFVWT9l5-iJmP_u7f...|        1|         1|        0|       0|Omg, the chicken ...|  Cigar City Brewing|    3924 W Spruce St|         Tampa|   FL|      33607|    27.958601|    -82.509346|      4.5|             876|      1|                       False|Tours, Food, Wine...| NULL|                                 True|   11:0-22:0|    11:0-22:0|      11:0-22:0|     11:0-22:0|   11:0-21:0|     11:0-23:0|                  True|                                2|                NULL|                         True|                          None|            False|        u'free'|      {'garage': False,...|                           True|                True|                     NULL|            NULL|                              NULL|                  True|   11:0-22:0|  u'beer_and_wine'|                  True|                        NULL|                NULL|                              NULL|                               NULL|                NULL|      NULL|           u'average'|                  NULL|                            False|              NULL|                NULL|                     NULL|                       NULL|                 NULL|           NULL|              NULL|                  NULL|                        NULL|                  NULL|                                NULL|                  NULL|                          NULL|     Eric|           5|         8|        3|       1|                NULL|                None|   0|          1.6|             0|              0|                 0|              0|              0|              0|               0|              0|               0|                0|                0|            1|          0|     NULL|            NULL|               4116|\n",
            "|itv5mVA2lkp_ivhSd...|-0rsuyw37qlGp7I2k...|Tj4OZHWTSnrgZTXYi...|        5|         1|        0|       0|\"It's a very nice...|Seorabol Korean R...|     5734 Old 2nd St|  Philadelphia|   PA|      19120|40.0385555068|-75.1242795983|      4.0|             531|      1|                       False|Korean, Restauran...| NULL|                                 True|   11:0-23:0|    11:0-23:0|      11:0-23:0|     11:0-23:0|   11:0-23:0|     11:0-23:0|                  True|                                2|                NULL|                         True|                          True|             True|        u'free'|      {'garage': False,...|                           True|                True|                     None|            True|                             False|                 False|   11:0-23:0|       u'full_bar'|                  True|                    'casual'|{'romantic': Fals...|                             False|                               True|                NULL|      NULL|           u'average'|  {'dessert': False...|                            False|              NULL|                NULL|                     NULL|                       NULL|                 NULL|           NULL|             False|            'yes_free'|                        NULL|                  NULL|                                NULL|                  NULL|                          NULL|  Rebekah|           3|         3|        1|       2|                NULL|Ju8Wae4dgttdxfE99...|   0|          5.0|             0|              0|                 0|              0|              0|              0|               1|              0|               0|                0|                0|           25|          0|     NULL|            NULL|               1237|\n",
            "|8wkPLsDbGU3GcW8Co...|-1-pTXLHph2vcqRCN...|hHy3jQ2aujFuGL-xQ...|        4|         0|        0|       0|Solid coffee! Som...|          Caffe Luce|   245 E Congress St|        Tucson|   AZ|      85701|    32.222231|   -110.967274|      4.5|             321|      1|                        NULL|Coffee & Tea, Foo...| NULL|                                 True|    7:0-21:0|     7:0-21:0|       7:0-21:0|      7:0-21:0|    7:0-21:0|      8:0-20:0|                  True|                                1|                NULL|                         True|                          True|            False|        u'free'|      {u'valet': False,...|                           NULL|                True|                     True|            True|                             False|                  NULL|    9:0-19:0|  u'beer_and_wine'|                 False|                   u'casual'|{'touristy': Fals...|                             False|                               True|                NULL|      NULL|           u'average'|  {'dessert': False...|                             NULL|              NULL|                NULL|                     NULL|                       NULL|                 NULL|           NULL|              NULL|                  NULL|                        NULL|                  NULL|                                NULL|                  NULL|                          NULL|Elizabeth|         134|       138|       38|      71|2016,2017,2018,20...|Csd8998hojzTmFGUk...|  11|         4.08|             1|              1|                 0|              0|              0|              5|              12|             11|              11|                1|                6|          246|          7|     NULL|            NULL|               1439|\n",
            "|lR_ka9JYYUpL3se5W...|-11rdqk0uCiXWA1So...|9_B80bvYwVYPi4MY_...|        4|         0|        0|       0|My steak was cook...| LongHorn Steakhouse|3642 S Lindbergh ...|   Saint Louis|   MO|      63127|38.5537877285|-90.4063998857|      3.0|              90|      1|                        NULL|Restaurants, Barb...| NULL|                                 True|     0:0-0:0|    11:0-22:0|      11:0-22:0|     11:0-20:0|   11:0-23:0|     11:0-23:0|                 False|                                2|                NULL|                         True|                         False|            False|         'free'|      {u'valet': False,...|                           NULL|                NULL|                    False|            True|                             False|                 False|   11:0-22:0|       u'full_bar'|                  True|                   u'casual'|{'romantic': Fals...|                              True|                               True|                NULL|      NULL|           u'average'|  {'dessert': False...|                             NULL|              NULL|                NULL|                     NULL|                       NULL|                 NULL|           NULL|              NULL|                  NULL|                        NULL|                  NULL|                                NULL|                  NULL|                          NULL|   Robert|           5|         0|        0|       0|                NULL|                None|   0|          4.4|             0|              0|                 0|              0|              0|              0|               0|              0|               0|                0|                0|            1|          0|     NULL|            NULL|                255|\n",
            "|hkirr3WzSTx2d9cdP...|-184J3wL7JPF3Oq-F...|Vc3V4WyaJpBcqgHN_...|        5|         0|        0|       0|Came all the way ...|   Mama's Vegetarian|        18 S 20th St|  Philadelphia|   PA|      19103|    39.952706|    -75.173477|      4.5|             592|      0|                        NULL|Comfort Food, Mid...| NULL|                                False|   11:0-21:0|    11:0-21:0|      11:0-21:0|     11:0-21:0|   11:0-15:0|          NULL|                  True|                                1|                NULL|                         True|                         False|             True|          u'no'|      {'garage': False,...|                           NULL|                NULL|                     True|           False|                             False|                  NULL|   12:0-19:0|            'none'|                  True|                    'casual'|{'romantic': Fals...|                             False|                              False|                NULL|      NULL|           u'average'|  {'dessert': False...|                             NULL|              NULL|                NULL|                     NULL|                       NULL|                 NULL|           NULL|              NULL|                  NULL|                        NULL|                  NULL|                                NULL|                  NULL|                          NULL|   Lorena|           3|         3|        0|       0|                NULL|vt2gAopIunM1VWQZB...|   0|         3.67|             0|              0|                 0|              0|              0|              0|               0|              0|               0|                0|                0|            1|          0|     NULL|            NULL|                991|\n",
            "+--------------------+--------------------+--------------------+---------+----------+---------+--------+--------------------+--------------------+--------------------+--------------+-----+-----------+-------------+--------------+---------+----------------+-------+----------------------------+--------------------+-----+-------------------------------------+------------+-------------+---------------+--------------+------------+--------------+----------------------+---------------------------------+--------------------+-----------------------------+------------------------------+-----------------+---------------+--------------------------+-------------------------------+--------------------+-------------------------+----------------+----------------------------------+----------------------+------------+------------------+----------------------+----------------------------+--------------------+----------------------------------+-----------------------------------+--------------------+----------+---------------------+----------------------+---------------------------------+------------------+--------------------+-------------------------+---------------------------+---------------------+---------------+------------------+----------------------+----------------------------+----------------------+------------------------------------+----------------------+------------------------------+---------+------------+----------+---------+--------+--------------------+--------------------+----+-------------+--------------+---------------+------------------+---------------+---------------+---------------+----------------+---------------+----------------+-----------------+-----------------+-------------+-----------+---------+----------------+-------------------+\n",
            "only showing top 20 rows\n",
            "\n"
          ]
        }
      ],
      "source": [
        "# prompt: read and display \"/content/drive/MyDrive/ProcessedCSV/merged.csv\"\n",
        "\n",
        "df_merged = spark.read.csv(\"/content/drive/MyDrive/ProcessedCSV/merged.csv\", header=True, inferSchema=True)\n",
        "df_merged.show()\n"
      ]
    },
    {
      "cell_type": "code",
      "source": [],
      "metadata": {
        "id": "_VinzFQbRYjZ"
      },
      "execution_count": null,
      "outputs": []
    }
  ],
  "metadata": {
    "colab": {
      "provenance": [],
      "mount_file_id": "1ztEyYU2j0EQv42Q6f8B1IEP6UboxtPZx",
      "authorship_tag": "ABX9TyOLIxRNRmTq9HVoLyYyXA/l",
      "include_colab_link": true
    },
    "kernelspec": {
      "display_name": "Python 3",
      "name": "python3"
    },
    "language_info": {
      "name": "python"
    }
  },
  "nbformat": 4,
  "nbformat_minor": 0
}