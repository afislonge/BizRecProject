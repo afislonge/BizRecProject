{
  "cells": [
    {
      "cell_type": "code",
      "execution_count": null,
      "metadata": {
        "colab": {
          "base_uri": "https://localhost:8080/"
        },
        "id": "XU9lMuZdVJya",
        "outputId": "61bb0d36-5bb4-46bd-accb-a45bfe942fe8"
      },
      "outputs": [
        {
          "output_type": "stream",
          "name": "stdout",
          "text": [
            "Requirement already satisfied: pyspark in /usr/local/lib/python3.10/dist-packages (3.5.3)\n",
            "Requirement already satisfied: py4j==0.10.9.7 in /usr/local/lib/python3.10/dist-packages (from pyspark) (0.10.9.7)\n"
          ]
        }
      ],
      "source": [
        "!pip install pyspark"
      ]
    },
    {
      "cell_type": "code",
      "execution_count": null,
      "metadata": {
        "colab": {
          "base_uri": "https://localhost:8080/",
          "height": 219
        },
        "id": "Z6QU3P9Gnn_e",
        "outputId": "2289cc66-8b31-460b-d711-893542b014de"
      },
      "outputs": [
        {
          "output_type": "execute_result",
          "data": {
            "text/plain": [
              "<pyspark.sql.session.SparkSession at 0x7fca963c6050>"
            ],
            "text/html": [
              "\n",
              "            <div>\n",
              "                <p><b>SparkSession - in-memory</b></p>\n",
              "                \n",
              "        <div>\n",
              "            <p><b>SparkContext</b></p>\n",
              "\n",
              "            <p><a href=\"http://608b94db58ae:4040\">Spark UI</a></p>\n",
              "\n",
              "            <dl>\n",
              "              <dt>Version</dt>\n",
              "                <dd><code>v3.5.3</code></dd>\n",
              "              <dt>Master</dt>\n",
              "                <dd><code>local[*]</code></dd>\n",
              "              <dt>AppName</dt>\n",
              "                <dd><code>MySparkSession</code></dd>\n",
              "            </dl>\n",
              "        </div>\n",
              "        \n",
              "            </div>\n",
              "        "
            ]
          },
          "metadata": {},
          "execution_count": 2
        }
      ],
      "source": [
        "\n",
        "from pyspark.sql import SparkSession\n",
        "\n",
        "spark = SparkSession.builder.appName(\"MySparkSession\").getOrCreate()\n",
        "\n",
        "# Check if the SparkSession is created successfully\n",
        "spark"
      ]
    },
    {
      "cell_type": "code",
      "execution_count": null,
      "metadata": {
        "id": "0Q_wxl8osDnA"
      },
      "outputs": [],
      "source": [
        "# import pandas as pd\n",
        "from textblob import TextBlob\n",
        "import nltk\n",
        "from nltk.tokenize import sent_tokenize"
      ]
    },
    {
      "cell_type": "code",
      "execution_count": null,
      "metadata": {
        "id": "pBwb1Nt1tbfA"
      },
      "outputs": [],
      "source": [
        "df_reviews = spark.read.csv('/content/drive/MyDrive/ProcessedCSV/final_review.csv', header=True, inferSchema=True)\n"
      ]
    },
    {
      "cell_type": "code",
      "execution_count": null,
      "metadata": {
        "id": "QItJizQrdxm5"
      },
      "outputs": [],
      "source": [
        "# reviews.info()\n",
        "# tips.info()"
      ]
    },
    {
      "cell_type": "code",
      "execution_count": null,
      "metadata": {
        "id": "njh0uOuHTyY_"
      },
      "outputs": [],
      "source": [
        "# reviews.head()\n"
      ]
    },
    {
      "cell_type": "code",
      "execution_count": null,
      "metadata": {
        "id": "pwUQV23TLkcn"
      },
      "outputs": [],
      "source": [
        "# tips.head()"
      ]
    },
    {
      "cell_type": "code",
      "execution_count": null,
      "metadata": {
        "id": "2RDxxtJhn7fs"
      },
      "outputs": [],
      "source": [
        "from pyspark.sql.functions import udf\n",
        "from pyspark.sql.types import StringType\n",
        "from textblob import TextBlob\n",
        "\n",
        "# Function to determine sentiment\n",
        "def get_sentiment(text):\n",
        "    analysis = TextBlob(text)\n",
        "    # Classify sentiment\n",
        "    if analysis.sentiment.polarity > 0:\n",
        "        return 'positive'\n",
        "    elif analysis.sentiment.polarity < 0:\n",
        "        return 'negative'\n",
        "    else:\n",
        "        return 'neutral'\n",
        "\n",
        "# Create a UDF (User-Defined Function) from the get_sentiment function\n",
        "sentiment_udf = udf(get_sentiment, StringType())\n",
        "\n",
        "# Apply the UDF to the 'text' column\n",
        "df_reviews = df_reviews.withColumn('sentiment', sentiment_udf(df_reviews['text']))\n",
        "\n",
        "# Save the updated DataFrame to a new CSV file\n",
        "df_reviews.write.csv('reviews_with_sentiment.csv', header=True, mode='overwrite')\n",
        "\n",
        "print(\"Sentiment analysis completed and saved to 'reviews_with_sentiment.csv'.\")\n"
      ]
    },
    {
      "cell_type": "code",
      "execution_count": null,
      "metadata": {
        "id": "xNUHi2OwoYTk"
      },
      "outputs": [],
      "source": [
        "# read and display csv file\n",
        "df_reviews_with_sentiment = spark.read.csv('/content/reviews_with_sentiment.csv', header=True, inferSchema=True)\n",
        "df_reviews_with_sentiment.show()"
      ]
    },
    {
      "cell_type": "code",
      "source": [
        "\n",
        "# Drop the first row from the DataFrame\n",
        "df_reviews_with_sentiment = df_reviews_with_sentiment.filter(df_reviews_with_sentiment.index != 0)\n",
        "\n",
        "# Show the updated DataFrame\n",
        "df_reviews_with_sentiment.show()"
      ],
      "metadata": {
        "id": "wpyC_3Uok9BG"
      },
      "execution_count": null,
      "outputs": []
    },
    {
      "cell_type": "code",
      "execution_count": null,
      "metadata": {
        "id": "FhbqCJiroYQG"
      },
      "outputs": [],
      "source": [
        "# save CSV file in the 'ProcessedCSV' folder\n",
        "df_reviews_with_sentiment.write.csv('/content/drive/MyDrive/ProcessedCSV/reviews_with_sentiment.csv', header=True, mode='overwrite')"
      ]
    },
    {
      "cell_type": "code",
      "execution_count": null,
      "metadata": {
        "id": "A9IZAWrFoYN_"
      },
      "outputs": [],
      "source": []
    },
    {
      "cell_type": "code",
      "execution_count": null,
      "metadata": {
        "id": "UIJBifIIoYLP"
      },
      "outputs": [],
      "source": []
    }
  ],
  "metadata": {
    "colab": {
      "machine_shape": "hm",
      "provenance": []
    },
    "kernelspec": {
      "display_name": "Python 3",
      "name": "python3"
    },
    "language_info": {
      "name": "python"
    }
  },
  "nbformat": 4,
  "nbformat_minor": 0
}