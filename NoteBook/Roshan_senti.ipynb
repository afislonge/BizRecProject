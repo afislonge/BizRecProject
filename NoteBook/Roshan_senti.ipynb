{
  "cells": [
    {
      "cell_type": "markdown",
      "metadata": {
        "id": "view-in-github",
        "colab_type": "text"
      },
      "source": [
        "<a href=\"https://colab.research.google.com/github/Roshanjoseph468/BizRecProject/blob/dev/Roshan_senti.ipynb\" target=\"_parent\"><img src=\"https://colab.research.google.com/assets/colab-badge.svg\" alt=\"Open In Colab\"/></a>"
      ]
    },
    {
      "cell_type": "code",
      "execution_count": null,
      "metadata": {
        "id": "tglWjtAwVwJD"
      },
      "outputs": [],
      "source": [
        "import pandas as pd\n",
        "import numpy as np\n",
        "import nltk\n",
        "from sklearn.model_selection import train_test_split\n",
        "from sklearn.feature_extraction.text import CountVectorizer, TfidfTransformer\n",
        "from sklearn.naive_bayes import MultinomialNB\n",
        "from sklearn.metrics import classification_report, confusion_matrix"
      ]
    },
    {
      "cell_type": "code",
      "execution_count": null,
      "metadata": {
        "colab": {
          "base_uri": "https://localhost:8080/",
          "height": 293
        },
        "id": "U2Wd1VVfV6SC",
        "outputId": "4d6e5a5a-c6c4-422e-d962-0bacba3b38af"
      },
      "outputs": [
        {
          "output_type": "execute_result",
          "data": {
            "text/plain": [
              "                        _id                 user_id             business_id  \\\n",
              "0  66ea489ae59c7c5b6d8be1ac  AGNUgVwnZUey3gcPCJ76iw  3uLgwr0qeCNMjKenHJwPGQ   \n",
              "1  66ea489ae59c7c5b6d8be1ad  NBN4MgHP9D3cw--SnauTkA  QoezRbYQncpRqyrLH6Iqjg   \n",
              "2  66ea489ae59c7c5b6d8be1ae  -copOvldyKh1qr-vzkDEvw  MYoRNLb5chwjQe3c_k37Gg   \n",
              "3  66ea489ae59c7c5b6d8be1af  FjMQVZjSqY8syIO-53KFKw  hV-bABTK-glh5wj31ps_Jw   \n",
              "4  66ea489ae59c7c5b6d8be1b0  ld0AperBXk1h6UbqmM80zw  _uN0OudeJ3Zl_tf6nxg5ww   \n",
              "\n",
              "                                                text                 date  \\\n",
              "0                     Avengers time with the ladies.  2012-05-18 02:17:21   \n",
              "1  They have lots of good deserts and tasty cuban...  2013-02-05 18:35:10   \n",
              "2             It's open even when you think it isn't  2013-08-18 00:56:08   \n",
              "3                          Very decent fried chicken  2017-06-27 23:05:38   \n",
              "4             Appetizers.. platter special for lunch  2012-10-06 19:43:09   \n",
              "\n",
              "   compliment_count  \n",
              "0               0.0  \n",
              "1               0.0  \n",
              "2               0.0  \n",
              "3               0.0  \n",
              "4               0.0  "
            ],
            "text/html": [
              "\n",
              "  <div id=\"df-037c0628-90f7-4a06-8ac5-44c61c5150e4\" class=\"colab-df-container\">\n",
              "    <div>\n",
              "<style scoped>\n",
              "    .dataframe tbody tr th:only-of-type {\n",
              "        vertical-align: middle;\n",
              "    }\n",
              "\n",
              "    .dataframe tbody tr th {\n",
              "        vertical-align: top;\n",
              "    }\n",
              "\n",
              "    .dataframe thead th {\n",
              "        text-align: right;\n",
              "    }\n",
              "</style>\n",
              "<table border=\"1\" class=\"dataframe\">\n",
              "  <thead>\n",
              "    <tr style=\"text-align: right;\">\n",
              "      <th></th>\n",
              "      <th>_id</th>\n",
              "      <th>user_id</th>\n",
              "      <th>business_id</th>\n",
              "      <th>text</th>\n",
              "      <th>date</th>\n",
              "      <th>compliment_count</th>\n",
              "    </tr>\n",
              "  </thead>\n",
              "  <tbody>\n",
              "    <tr>\n",
              "      <th>0</th>\n",
              "      <td>66ea489ae59c7c5b6d8be1ac</td>\n",
              "      <td>AGNUgVwnZUey3gcPCJ76iw</td>\n",
              "      <td>3uLgwr0qeCNMjKenHJwPGQ</td>\n",
              "      <td>Avengers time with the ladies.</td>\n",
              "      <td>2012-05-18 02:17:21</td>\n",
              "      <td>0.0</td>\n",
              "    </tr>\n",
              "    <tr>\n",
              "      <th>1</th>\n",
              "      <td>66ea489ae59c7c5b6d8be1ad</td>\n",
              "      <td>NBN4MgHP9D3cw--SnauTkA</td>\n",
              "      <td>QoezRbYQncpRqyrLH6Iqjg</td>\n",
              "      <td>They have lots of good deserts and tasty cuban...</td>\n",
              "      <td>2013-02-05 18:35:10</td>\n",
              "      <td>0.0</td>\n",
              "    </tr>\n",
              "    <tr>\n",
              "      <th>2</th>\n",
              "      <td>66ea489ae59c7c5b6d8be1ae</td>\n",
              "      <td>-copOvldyKh1qr-vzkDEvw</td>\n",
              "      <td>MYoRNLb5chwjQe3c_k37Gg</td>\n",
              "      <td>It's open even when you think it isn't</td>\n",
              "      <td>2013-08-18 00:56:08</td>\n",
              "      <td>0.0</td>\n",
              "    </tr>\n",
              "    <tr>\n",
              "      <th>3</th>\n",
              "      <td>66ea489ae59c7c5b6d8be1af</td>\n",
              "      <td>FjMQVZjSqY8syIO-53KFKw</td>\n",
              "      <td>hV-bABTK-glh5wj31ps_Jw</td>\n",
              "      <td>Very decent fried chicken</td>\n",
              "      <td>2017-06-27 23:05:38</td>\n",
              "      <td>0.0</td>\n",
              "    </tr>\n",
              "    <tr>\n",
              "      <th>4</th>\n",
              "      <td>66ea489ae59c7c5b6d8be1b0</td>\n",
              "      <td>ld0AperBXk1h6UbqmM80zw</td>\n",
              "      <td>_uN0OudeJ3Zl_tf6nxg5ww</td>\n",
              "      <td>Appetizers.. platter special for lunch</td>\n",
              "      <td>2012-10-06 19:43:09</td>\n",
              "      <td>0.0</td>\n",
              "    </tr>\n",
              "  </tbody>\n",
              "</table>\n",
              "</div>\n",
              "    <div class=\"colab-df-buttons\">\n",
              "\n",
              "  <div class=\"colab-df-container\">\n",
              "    <button class=\"colab-df-convert\" onclick=\"convertToInteractive('df-037c0628-90f7-4a06-8ac5-44c61c5150e4')\"\n",
              "            title=\"Convert this dataframe to an interactive table.\"\n",
              "            style=\"display:none;\">\n",
              "\n",
              "  <svg xmlns=\"http://www.w3.org/2000/svg\" height=\"24px\" viewBox=\"0 -960 960 960\">\n",
              "    <path d=\"M120-120v-720h720v720H120Zm60-500h600v-160H180v160Zm220 220h160v-160H400v160Zm0 220h160v-160H400v160ZM180-400h160v-160H180v160Zm440 0h160v-160H620v160ZM180-180h160v-160H180v160Zm440 0h160v-160H620v160Z\"/>\n",
              "  </svg>\n",
              "    </button>\n",
              "\n",
              "  <style>\n",
              "    .colab-df-container {\n",
              "      display:flex;\n",
              "      gap: 12px;\n",
              "    }\n",
              "\n",
              "    .colab-df-convert {\n",
              "      background-color: #E8F0FE;\n",
              "      border: none;\n",
              "      border-radius: 50%;\n",
              "      cursor: pointer;\n",
              "      display: none;\n",
              "      fill: #1967D2;\n",
              "      height: 32px;\n",
              "      padding: 0 0 0 0;\n",
              "      width: 32px;\n",
              "    }\n",
              "\n",
              "    .colab-df-convert:hover {\n",
              "      background-color: #E2EBFA;\n",
              "      box-shadow: 0px 1px 2px rgba(60, 64, 67, 0.3), 0px 1px 3px 1px rgba(60, 64, 67, 0.15);\n",
              "      fill: #174EA6;\n",
              "    }\n",
              "\n",
              "    .colab-df-buttons div {\n",
              "      margin-bottom: 4px;\n",
              "    }\n",
              "\n",
              "    [theme=dark] .colab-df-convert {\n",
              "      background-color: #3B4455;\n",
              "      fill: #D2E3FC;\n",
              "    }\n",
              "\n",
              "    [theme=dark] .colab-df-convert:hover {\n",
              "      background-color: #434B5C;\n",
              "      box-shadow: 0px 1px 3px 1px rgba(0, 0, 0, 0.15);\n",
              "      filter: drop-shadow(0px 1px 2px rgba(0, 0, 0, 0.3));\n",
              "      fill: #FFFFFF;\n",
              "    }\n",
              "  </style>\n",
              "\n",
              "    <script>\n",
              "      const buttonEl =\n",
              "        document.querySelector('#df-037c0628-90f7-4a06-8ac5-44c61c5150e4 button.colab-df-convert');\n",
              "      buttonEl.style.display =\n",
              "        google.colab.kernel.accessAllowed ? 'block' : 'none';\n",
              "\n",
              "      async function convertToInteractive(key) {\n",
              "        const element = document.querySelector('#df-037c0628-90f7-4a06-8ac5-44c61c5150e4');\n",
              "        const dataTable =\n",
              "          await google.colab.kernel.invokeFunction('convertToInteractive',\n",
              "                                                    [key], {});\n",
              "        if (!dataTable) return;\n",
              "\n",
              "        const docLinkHtml = 'Like what you see? Visit the ' +\n",
              "          '<a target=\"_blank\" href=https://colab.research.google.com/notebooks/data_table.ipynb>data table notebook</a>'\n",
              "          + ' to learn more about interactive tables.';\n",
              "        element.innerHTML = '';\n",
              "        dataTable['output_type'] = 'display_data';\n",
              "        await google.colab.output.renderOutput(dataTable, element);\n",
              "        const docLink = document.createElement('div');\n",
              "        docLink.innerHTML = docLinkHtml;\n",
              "        element.appendChild(docLink);\n",
              "      }\n",
              "    </script>\n",
              "  </div>\n",
              "\n",
              "\n",
              "<div id=\"df-a8b38c1d-a3fc-43c8-8ec3-5aa0e6c340ce\">\n",
              "  <button class=\"colab-df-quickchart\" onclick=\"quickchart('df-a8b38c1d-a3fc-43c8-8ec3-5aa0e6c340ce')\"\n",
              "            title=\"Suggest charts\"\n",
              "            style=\"display:none;\">\n",
              "\n",
              "<svg xmlns=\"http://www.w3.org/2000/svg\" height=\"24px\"viewBox=\"0 0 24 24\"\n",
              "     width=\"24px\">\n",
              "    <g>\n",
              "        <path d=\"M19 3H5c-1.1 0-2 .9-2 2v14c0 1.1.9 2 2 2h14c1.1 0 2-.9 2-2V5c0-1.1-.9-2-2-2zM9 17H7v-7h2v7zm4 0h-2V7h2v10zm4 0h-2v-4h2v4z\"/>\n",
              "    </g>\n",
              "</svg>\n",
              "  </button>\n",
              "\n",
              "<style>\n",
              "  .colab-df-quickchart {\n",
              "      --bg-color: #E8F0FE;\n",
              "      --fill-color: #1967D2;\n",
              "      --hover-bg-color: #E2EBFA;\n",
              "      --hover-fill-color: #174EA6;\n",
              "      --disabled-fill-color: #AAA;\n",
              "      --disabled-bg-color: #DDD;\n",
              "  }\n",
              "\n",
              "  [theme=dark] .colab-df-quickchart {\n",
              "      --bg-color: #3B4455;\n",
              "      --fill-color: #D2E3FC;\n",
              "      --hover-bg-color: #434B5C;\n",
              "      --hover-fill-color: #FFFFFF;\n",
              "      --disabled-bg-color: #3B4455;\n",
              "      --disabled-fill-color: #666;\n",
              "  }\n",
              "\n",
              "  .colab-df-quickchart {\n",
              "    background-color: var(--bg-color);\n",
              "    border: none;\n",
              "    border-radius: 50%;\n",
              "    cursor: pointer;\n",
              "    display: none;\n",
              "    fill: var(--fill-color);\n",
              "    height: 32px;\n",
              "    padding: 0;\n",
              "    width: 32px;\n",
              "  }\n",
              "\n",
              "  .colab-df-quickchart:hover {\n",
              "    background-color: var(--hover-bg-color);\n",
              "    box-shadow: 0 1px 2px rgba(60, 64, 67, 0.3), 0 1px 3px 1px rgba(60, 64, 67, 0.15);\n",
              "    fill: var(--button-hover-fill-color);\n",
              "  }\n",
              "\n",
              "  .colab-df-quickchart-complete:disabled,\n",
              "  .colab-df-quickchart-complete:disabled:hover {\n",
              "    background-color: var(--disabled-bg-color);\n",
              "    fill: var(--disabled-fill-color);\n",
              "    box-shadow: none;\n",
              "  }\n",
              "\n",
              "  .colab-df-spinner {\n",
              "    border: 2px solid var(--fill-color);\n",
              "    border-color: transparent;\n",
              "    border-bottom-color: var(--fill-color);\n",
              "    animation:\n",
              "      spin 1s steps(1) infinite;\n",
              "  }\n",
              "\n",
              "  @keyframes spin {\n",
              "    0% {\n",
              "      border-color: transparent;\n",
              "      border-bottom-color: var(--fill-color);\n",
              "      border-left-color: var(--fill-color);\n",
              "    }\n",
              "    20% {\n",
              "      border-color: transparent;\n",
              "      border-left-color: var(--fill-color);\n",
              "      border-top-color: var(--fill-color);\n",
              "    }\n",
              "    30% {\n",
              "      border-color: transparent;\n",
              "      border-left-color: var(--fill-color);\n",
              "      border-top-color: var(--fill-color);\n",
              "      border-right-color: var(--fill-color);\n",
              "    }\n",
              "    40% {\n",
              "      border-color: transparent;\n",
              "      border-right-color: var(--fill-color);\n",
              "      border-top-color: var(--fill-color);\n",
              "    }\n",
              "    60% {\n",
              "      border-color: transparent;\n",
              "      border-right-color: var(--fill-color);\n",
              "    }\n",
              "    80% {\n",
              "      border-color: transparent;\n",
              "      border-right-color: var(--fill-color);\n",
              "      border-bottom-color: var(--fill-color);\n",
              "    }\n",
              "    90% {\n",
              "      border-color: transparent;\n",
              "      border-bottom-color: var(--fill-color);\n",
              "    }\n",
              "  }\n",
              "</style>\n",
              "\n",
              "  <script>\n",
              "    async function quickchart(key) {\n",
              "      const quickchartButtonEl =\n",
              "        document.querySelector('#' + key + ' button');\n",
              "      quickchartButtonEl.disabled = true;  // To prevent multiple clicks.\n",
              "      quickchartButtonEl.classList.add('colab-df-spinner');\n",
              "      try {\n",
              "        const charts = await google.colab.kernel.invokeFunction(\n",
              "            'suggestCharts', [key], {});\n",
              "      } catch (error) {\n",
              "        console.error('Error during call to suggestCharts:', error);\n",
              "      }\n",
              "      quickchartButtonEl.classList.remove('colab-df-spinner');\n",
              "      quickchartButtonEl.classList.add('colab-df-quickchart-complete');\n",
              "    }\n",
              "    (() => {\n",
              "      let quickchartButtonEl =\n",
              "        document.querySelector('#df-a8b38c1d-a3fc-43c8-8ec3-5aa0e6c340ce button');\n",
              "      quickchartButtonEl.style.display =\n",
              "        google.colab.kernel.accessAllowed ? 'block' : 'none';\n",
              "    })();\n",
              "  </script>\n",
              "</div>\n",
              "\n",
              "    </div>\n",
              "  </div>\n"
            ],
            "application/vnd.google.colaboratory.intrinsic+json": {
              "type": "dataframe",
              "variable_name": "df",
              "summary": "{\n  \"name\": \"df\",\n  \"rows\": 47264,\n  \"fields\": [\n    {\n      \"column\": \"_id\",\n      \"properties\": {\n        \"dtype\": \"string\",\n        \"num_unique_values\": 47264,\n        \"samples\": [\n          \"66ea489be59c7c5b6d8c32c7\",\n          \"66ea489ae59c7c5b6d8bf561\",\n          \"66ea489ae59c7c5b6d8c2966\"\n        ],\n        \"semantic_type\": \"\",\n        \"description\": \"\"\n      }\n    },\n    {\n      \"column\": \"user_id\",\n      \"properties\": {\n        \"dtype\": \"category\",\n        \"num_unique_values\": 18074,\n        \"samples\": [\n          \"0IGhZv6vyBdHEa55xAEbbA\",\n          \"CzhZNMghByTNHwxke5cjsQ\",\n          \"20bWMsW40sdji8-wy4kHzg\"\n        ],\n        \"semantic_type\": \"\",\n        \"description\": \"\"\n      }\n    },\n    {\n      \"column\": \"business_id\",\n      \"properties\": {\n        \"dtype\": \"string\",\n        \"num_unique_values\": 24573,\n        \"samples\": [\n          \"rf_fD5vt0VIu6kQWl017Pg\",\n          \"g_pgHY7bCobi-P6DP3Htsg\",\n          \"8gY3LGFUMIQubovGbSd7Nw\"\n        ],\n        \"semantic_type\": \"\",\n        \"description\": \"\"\n      }\n    },\n    {\n      \"column\": \"text\",\n      \"properties\": {\n        \"dtype\": \"string\",\n        \"num_unique_values\": 46389,\n        \"samples\": [\n          \"So pretty. And so many rules!\",\n          \"Nothing yet- review to come for sho...\",\n          \"Food was pretty good!  Service was outstanding!  I will be coming back!\"\n        ],\n        \"semantic_type\": \"\",\n        \"description\": \"\"\n      }\n    },\n    {\n      \"column\": \"date\",\n      \"properties\": {\n        \"dtype\": \"object\",\n        \"num_unique_values\": 47251,\n        \"samples\": [\n          \"2012-10-10 20:40:31\",\n          \"2014-07-04 03:00:31\",\n          \"2015-02-25 14:56:02\"\n        ],\n        \"semantic_type\": \"\",\n        \"description\": \"\"\n      }\n    },\n    {\n      \"column\": \"compliment_count\",\n      \"properties\": {\n        \"dtype\": \"number\",\n        \"std\": 0.12363380255529388,\n        \"min\": 0.0,\n        \"max\": 4.0,\n        \"num_unique_values\": 5,\n        \"samples\": [\n          1.0,\n          4.0,\n          2.0\n        ],\n        \"semantic_type\": \"\",\n        \"description\": \"\"\n      }\n    }\n  ]\n}"
            }
          },
          "metadata": {},
          "execution_count": 3
        }
      ],
      "source": [
        "df=pd.read_csv('/content/yelp_tip.csv')\n",
        "df.head()"
      ]
    },
    {
      "cell_type": "code",
      "execution_count": null,
      "metadata": {
        "colab": {
          "base_uri": "https://localhost:8080/"
        },
        "id": "_Pj6djUXeiOk",
        "outputId": "13eabbf2-d93f-4fe0-939b-0e0bfa2bb611"
      },
      "outputs": [
        {
          "output_type": "stream",
          "name": "stdout",
          "text": [
            "<class 'pandas.core.frame.DataFrame'>\n",
            "RangeIndex: 47264 entries, 0 to 47263\n",
            "Data columns (total 6 columns):\n",
            " #   Column            Non-Null Count  Dtype  \n",
            "---  ------            --------------  -----  \n",
            " 0   _id               47264 non-null  object \n",
            " 1   user_id           47264 non-null  object \n",
            " 2   business_id       47263 non-null  object \n",
            " 3   text              47261 non-null  object \n",
            " 4   date              47263 non-null  object \n",
            " 5   compliment_count  47263 non-null  float64\n",
            "dtypes: float64(1), object(5)\n",
            "memory usage: 2.2+ MB\n"
          ]
        }
      ],
      "source": [
        "# prompt: print schema of df\n",
        "\n",
        "df.info()"
      ]
    },
    {
      "cell_type": "code",
      "execution_count": null,
      "metadata": {
        "id": "xx2FfzDGZWiv"
      },
      "outputs": [],
      "source": [
        "# import nltk\n",
        "\n",
        "# # Download 'stopwords' and 'wordnet' from NLTK\n",
        "# nltk.download('stopwords')\n",
        "# nltk.download('wordnet')\n"
      ]
    },
    {
      "cell_type": "code",
      "execution_count": null,
      "metadata": {
        "id": "KCEbdZbdaaUf"
      },
      "outputs": [],
      "source": [
        "# from nltk.corpus import stopwords\n",
        "# from nltk.corpus import wordnet"
      ]
    },
    {
      "cell_type": "code",
      "execution_count": null,
      "metadata": {
        "id": "5yXQoR--XpAu"
      },
      "outputs": [],
      "source": [
        "# import nltk\n",
        "# from nltk.corpus import stopwords\n",
        "# from nltk.stem import WordNetLemmatizer\n",
        "# import string\n",
        "# import pandas as pd\n",
        "\n",
        "# # Download resources if not already downloaded\n",
        "# nltk.download('stopwords')\n",
        "# nltk.download('wordnet')\n",
        "\n",
        "# # Initialize lemmatizer and stop words\n",
        "# lemmatizer = WordNetLemmatizer()\n",
        "# stop_words = set(stopwords.words('english'))\n",
        "\n",
        "# # Sample DataFrame for demonstration (replace with your actual DataFrame)\n",
        "# data = {'text': [\"Example sentence for preprocessing.\", None, \"Another example text.\", 123.45]}\n",
        "# df = pd.DataFrame(data)\n",
        "\n",
        "# def preprocess_text(text):\n",
        "#     # Convert non-string types to an empty string\n",
        "#     if not isinstance(text, str):\n",
        "#         text = ''\n",
        "#     # Remove punctuation\n",
        "#     text = text.translate(str.maketrans('', '', string.punctuation))\n",
        "#     # Tokenize and lemmatize\n",
        "#     words = text.split()\n",
        "#     words = [lemmatizer.lemmatize(word.lower()) for word in words if word.lower() not in stop_words]\n",
        "#     return ' '.join(words)\n",
        "\n",
        "# # Fill NaNs with empty strings before applying preprocessing\n",
        "# df['text'] = df['text'].fillna('')\n",
        "# df['cleaned_text'] = df['text'].apply(preprocess_text)\n",
        "\n",
        "# df  # Display the DataFrame to confirm results\n"
      ]
    },
    {
      "cell_type": "code",
      "execution_count": null,
      "metadata": {
        "id": "T_HW0B8JXo4M"
      },
      "outputs": [],
      "source": [
        "# # Define sentiment labels\n",
        "# df['sentiment'] = df['compliment_count'].apply(lambda x: 'pos' if x > 0 else 'neg')"
      ]
    },
    {
      "cell_type": "code",
      "execution_count": null,
      "metadata": {
        "id": "VidGzeH0XoxH"
      },
      "outputs": [],
      "source": [
        "# print(df.columns)\n"
      ]
    },
    {
      "cell_type": "code",
      "execution_count": null,
      "metadata": {
        "id": "qLwvF41aXotk"
      },
      "outputs": [],
      "source": [
        "# if 'compliment_count' not in df.columns:\n",
        "#     df['compliment_count'] = 0  # or any other default value\n"
      ]
    },
    {
      "cell_type": "code",
      "execution_count": null,
      "metadata": {
        "id": "5THjo_VSXoq7"
      },
      "outputs": [],
      "source": [
        "# # Ensure 'compliment_count' exists in the DataFrame or add it if necessary\n",
        "# if 'compliment_count' not in df.columns:\n",
        "#     df['compliment_count'] = 0  # Add with a default value, e.g., 0\n",
        "\n",
        "# # Define sentiment labels based on 'compliment_count' values\n",
        "# df['sentiment'] = df['compliment_count'].apply(lambda x: 'pos' if x > 0 else 'neg')\n"
      ]
    },
    {
      "cell_type": "code",
      "execution_count": null,
      "metadata": {
        "id": "yA1BKoVjXooT"
      },
      "outputs": [],
      "source": [
        "# #Splitting the Dataset\n",
        "# X = df['cleaned_text']\n",
        "# y = df['sentiment']\n",
        "\n",
        "# X_train, X_test, y_train, y_test = train_test_split(X, y, test_size=0.3, random_state=42)"
      ]
    },
    {
      "cell_type": "code",
      "execution_count": null,
      "metadata": {
        "id": "X7D3RUJ6XolV"
      },
      "outputs": [],
      "source": [
        "# # Count Vectorization\n",
        "# count_vect = CountVectorizer()\n",
        "# X_train_counts = count_vect.fit_transform(X_train)\n",
        "\n",
        "# # TF-IDF Transformation\n",
        "# tfidf_transformer = TfidfTransformer()\n",
        "# X_train_tfidf = tfidf_transformer.fit_transform(X_train_counts)"
      ]
    },
    {
      "cell_type": "code",
      "execution_count": null,
      "metadata": {
        "id": "kINv1yVFXoim"
      },
      "outputs": [],
      "source": [
        "# # Train the classifier\n",
        "# clf = MultinomialNB()\n",
        "# clf.fit(X_train_tfidf, y_train)"
      ]
    },
    {
      "cell_type": "code",
      "execution_count": null,
      "metadata": {
        "id": "qd759H5rdGRP"
      },
      "outputs": [],
      "source": [
        "# # Transform the test data\n",
        "# X_test_counts = count_vect.transform(X_test)\n",
        "# X_test_tfidf = tfidf_transformer.transform(X_test_counts)\n",
        "\n",
        "# # Make predictions\n",
        "# predicted = clf.predict(X_test_tfidf)"
      ]
    },
    {
      "cell_type": "code",
      "execution_count": null,
      "metadata": {
        "id": "txfIXKGFdGN3"
      },
      "outputs": [],
      "source": [
        "# # Evaluate the model\n",
        "# print(confusion_matrix(y_test, predicted))\n",
        "# print(classification_report(y_test, predicted))"
      ]
    },
    {
      "cell_type": "code",
      "execution_count": null,
      "metadata": {
        "colab": {
          "base_uri": "https://localhost:8080/"
        },
        "id": "UUkfQI5fflxJ",
        "outputId": "70370c0f-99fd-4298-bffd-3c17c55acfb7"
      },
      "outputs": [
        {
          "output_type": "stream",
          "name": "stderr",
          "text": [
            "[nltk_data] Downloading package vader_lexicon to /root/nltk_data...\n"
          ]
        },
        {
          "output_type": "stream",
          "name": "stdout",
          "text": [
            "                                                     text    neg    neu  \\\n",
            "0                          Avengers time with the ladies.  0.000  1.000   \n",
            "1       They have lots of good deserts and tasty cuban...  0.000  0.756   \n",
            "2                  It's open even when you think it isn't  0.000  1.000   \n",
            "3                               Very decent fried chicken  0.000  1.000   \n",
            "4                  Appetizers.. platter special for lunch  0.000  0.597   \n",
            "...                                                   ...    ...    ...   \n",
            "114530  Very good burgers and love the crunchy fries. ...  0.000  0.489   \n",
            "114531  Call to find out what the wait is like. Cause ...  0.000  0.857   \n",
            "114532  Great gym. Great people. Great, friendly staff...  0.000  0.387   \n",
            "114533                             Good pizza bad service  0.417  0.238   \n",
            "114534  The automatic wash is fun! Quite entertaining ...  0.000  0.410   \n",
            "\n",
            "          pos  compound sentiment  \n",
            "0       0.000    0.0000   neutral  \n",
            "1       0.244    0.4404  positive  \n",
            "2       0.000    0.0000   neutral  \n",
            "3       0.000    0.0000   neutral  \n",
            "4       0.403    0.4019  positive  \n",
            "...       ...       ...       ...  \n",
            "114530  0.511    0.9099  positive  \n",
            "114531  0.143    0.3612  positive  \n",
            "114532  0.613    0.9758  positive  \n",
            "114533  0.345   -0.1531  negative  \n",
            "114534  0.590    0.8775  positive  \n",
            "\n",
            "[114535 rows x 6 columns]\n"
          ]
        }
      ],
      "source": [
        "# Import necessary libraries\n",
        "import pandas as pd\n",
        "import nltk\n",
        "from nltk.sentiment import SentimentIntensityAnalyzer\n",
        "\n",
        "\n",
        "df = pd.read_csv('/content/yelp_tip.csv')\n",
        "\n",
        "# Download VADER lexicon\n",
        "nltk.download('vader_lexicon')\n",
        "\n",
        "# Initialize the SentimentIntensityAnalyzer\n",
        "sia = SentimentIntensityAnalyzer()\n",
        "\n",
        "# Define a function for sentiment analysis\n",
        "def analyze_sentiment(text):\n",
        "    # Convert the input to string if it's not already\n",
        "    if not isinstance(text, str):\n",
        "        text = str(text)\n",
        "\n",
        "    score = sia.polarity_scores(text)\n",
        "    return score\n",
        "\n",
        "# Apply sentiment analysis to the text column\n",
        "df['sentiment_scores'] = df['text'].apply(analyze_sentiment)\n",
        "\n",
        "# Expand the sentiment scores into separate columns\n",
        "df_sentiment = df['sentiment_scores'].apply(pd.Series)\n",
        "\n",
        "# Combine the original DataFrame with the sentiment scores\n",
        "df = pd.concat([df, df_sentiment], axis=1)\n",
        "\n",
        "# Function to classify sentiment based on compound score\n",
        "def classify_sentiment(compound_score):\n",
        "    if compound_score >= 0.05:\n",
        "        return 'positive'\n",
        "    elif compound_score <= -0.05:\n",
        "        return 'negative'\n",
        "    else:\n",
        "        return 'neutral'\n",
        "\n",
        "# Apply the classification function\n",
        "df['sentiment'] = df['compound'].apply(classify_sentiment)\n",
        "\n",
        "# Display the DataFrame with sentiment analysis results\n",
        "print(df[['text', 'neg', 'neu', 'pos', 'compound', 'sentiment']])"
      ]
    },
    {
      "cell_type": "code",
      "execution_count": null,
      "metadata": {
        "id": "PTXBFouifYDd"
      },
      "outputs": [],
      "source": [
        "\n",
        "# Save the DataFrame to Google Drive as a CSV file\n",
        "df.to_csv('/content/drive/MyDrive/ProcessedCSV/tip_sentiments.csv', index=False)"
      ]
    },
    {
      "cell_type": "code",
      "source": [],
      "metadata": {
        "id": "3vfX_ypSi_pp"
      },
      "execution_count": null,
      "outputs": []
    }
  ],
  "metadata": {
    "colab": {
      "provenance": [],
      "include_colab_link": true
    },
    "kernelspec": {
      "display_name": "Python 3",
      "name": "python3"
    },
    "language_info": {
      "name": "python"
    }
  },
  "nbformat": 4,
  "nbformat_minor": 0
}