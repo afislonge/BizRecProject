{
  "cells": [
    {
      "cell_type": "markdown",
      "metadata": {
        "id": "view-in-github",
        "colab_type": "text"
      },
      "source": [
        "<a href=\"https://colab.research.google.com/github/Justin2430/BizRecProject/blob/main/DataprocessingP5_Checkin.ipynb\" target=\"_parent\"><img src=\"https://colab.research.google.com/assets/colab-badge.svg\" alt=\"Open In Colab\"/></a>"
      ]
    },
    {
      "cell_type": "code",
      "execution_count": null,
      "metadata": {
        "colab": {
          "base_uri": "https://localhost:8080/"
        },
        "id": "9Wt7ZQNdZANN",
        "outputId": "8f4e24ef-a38e-4a52-ee74-8b7db50c23c1"
      },
      "outputs": [
        {
          "output_type": "stream",
          "name": "stdout",
          "text": [
            "Collecting pyspark\n",
            "  Downloading pyspark-3.5.3.tar.gz (317.3 MB)\n",
            "\u001b[2K     \u001b[90m━━━━━━━━━━━━━━━━━━━━━━━━━━━━━━━━━━━━━━━━\u001b[0m \u001b[32m317.3/317.3 MB\u001b[0m \u001b[31m1.5 MB/s\u001b[0m eta \u001b[36m0:00:00\u001b[0m\n",
            "\u001b[?25h  Preparing metadata (setup.py) ... \u001b[?25l\u001b[?25hdone\n",
            "Requirement already satisfied: py4j==0.10.9.7 in /usr/local/lib/python3.10/dist-packages (from pyspark) (0.10.9.7)\n",
            "Building wheels for collected packages: pyspark\n",
            "  Building wheel for pyspark (setup.py) ... \u001b[?25l\u001b[?25hdone\n",
            "  Created wheel for pyspark: filename=pyspark-3.5.3-py2.py3-none-any.whl size=317840625 sha256=090ea5167edba2965240d229c0959fffe9d7bda3cd34b37ea12d3cdc114f11e2\n",
            "  Stored in directory: /root/.cache/pip/wheels/1b/3a/92/28b93e2fbfdbb07509ca4d6f50c5e407f48dce4ddbda69a4ab\n",
            "Successfully built pyspark\n",
            "Installing collected packages: pyspark\n",
            "Successfully installed pyspark-3.5.3\n"
          ]
        }
      ],
      "source": [
        "!pip install pyspark"
      ]
    },
    {
      "cell_type": "code",
      "execution_count": null,
      "metadata": {
        "colab": {
          "base_uri": "https://localhost:8080/"
        },
        "id": "6wGKWU-iZT4y",
        "outputId": "4231dd2b-f506-4aa5-a4b6-425abcf23b5a"
      },
      "outputs": [
        {
          "output_type": "stream",
          "name": "stdout",
          "text": [
            "Collecting findspark\n",
            "  Downloading findspark-2.0.1-py2.py3-none-any.whl.metadata (352 bytes)\n",
            "Downloading findspark-2.0.1-py2.py3-none-any.whl (4.4 kB)\n",
            "Installing collected packages: findspark\n",
            "Successfully installed findspark-2.0.1\n"
          ]
        }
      ],
      "source": [
        "!pip install findspark"
      ]
    },
    {
      "cell_type": "code",
      "execution_count": null,
      "metadata": {
        "colab": {
          "base_uri": "https://localhost:8080/"
        },
        "id": "9fyG_DI8ZJMq",
        "outputId": "4a914dfd-539a-4665-b97f-63434934281c"
      },
      "outputs": [
        {
          "output_type": "stream",
          "name": "stdout",
          "text": [
            "Requirement already satisfied: pyarrow in /usr/local/lib/python3.10/dist-packages (16.1.0)\n",
            "Requirement already satisfied: numpy>=1.16.6 in /usr/local/lib/python3.10/dist-packages (from pyarrow) (1.26.4)\n"
          ]
        }
      ],
      "source": [
        "\n",
        "!pip install pyarrow\n"
      ]
    },
    {
      "cell_type": "code",
      "execution_count": null,
      "metadata": {
        "id": "glBfjrR8Zrzi"
      },
      "outputs": [],
      "source": [
        "import findspark\n",
        "findspark.init()\n",
        "from pyspark.sql import SparkSession\n",
        "from pyspark.sql.functions import col\n",
        "from pyspark.sql.functions import *\n",
        "import time"
      ]
    },
    {
      "cell_type": "code",
      "execution_count": null,
      "metadata": {
        "id": "1MOwlc9cZv1R"
      },
      "outputs": [],
      "source": [
        "# Initialize SparkSession\n",
        "spark = SparkSession.builder.appName(\"CSVReader\").getOrCreate()"
      ]
    },
    {
      "cell_type": "code",
      "execution_count": null,
      "metadata": {
        "colab": {
          "base_uri": "https://localhost:8080/"
        },
        "id": "VMA6hRI_ZfLb",
        "outputId": "25463c3b-2983-4f73-bf46-c21bc422d057"
      },
      "outputs": [
        {
          "output_type": "stream",
          "name": "stdout",
          "text": [
            "Execution started at: 2024-10-11 23:04:19\n",
            "+--------------------+--------------------+--------------------+\n",
            "|                 _id|         business_id|                date|\n",
            "+--------------------+--------------------+--------------------+\n",
            "|66ea4866e59c7c5b6...|---kPU91CF4Lq2-Wl...|2020-03-13 21:10:...|\n",
            "|66ea4866e59c7c5b6...|--0iUa4sNDFiZFrAd...|2010-09-13 21:43:...|\n",
            "|66ea4866e59c7c5b6...|--30_8IhuyMHbSOcN...|2013-06-14 23:29:...|\n",
            "|66ea4866e59c7c5b6...|--7PUidqRWpRSpXeb...|2011-02-15 17:12:...|\n",
            "|66ea4866e59c7c5b6...|--7jw19RH9JKXgFoh...|2014-04-21 20:42:...|\n",
            "|66ea4866e59c7c5b6...|--8IbOsAAxjKRoYsB...|2015-06-06 01:03:...|\n",
            "|66ea4866e59c7c5b6...|--9osgUCSDUWUkoTL...|2015-06-13 02:00:...|\n",
            "|66ea4866e59c7c5b6...|--ARBQr1WMsTWiwOK...|2014-12-12 00:44:...|\n",
            "|66ea4866e59c7c5b6...|--FWWsIwxRwuw9vIM...|2010-09-11 16:28:...|\n",
            "|66ea4866e59c7c5b6...|--FcbSxK1AoEtEAxO...|2017-08-18 19:43:...|\n",
            "|66ea4866e59c7c5b6...|--LC8cIrALInl2vyo...|2017-01-12 19:10:...|\n",
            "|66ea4866e59c7c5b6...|--MbOh2O1pATkXa7x...|2013-04-21 01:52:...|\n",
            "|66ea4866e59c7c5b6...|--N9yp3ZWqQIm7DqK...|2012-10-06 20:46:...|\n",
            "|66ea4866e59c7c5b6...|--O3ip9NpXTKD4oBS...|2010-04-17 21:07:...|\n",
            "|66ea4866e59c7c5b6...|--OS_I7dnABrXvRCC...| 2018-05-11 18:23:36|\n",
            "|66ea4866e59c7c5b6...|--S43ruInmIsGrnnk...|2010-08-29 01:17:...|\n",
            "|66ea4866e59c7c5b6...|--SJXpAa0E-GCp2sm...|2014-04-06 22:23:...|\n",
            "|66ea4866e59c7c5b6...|--Sd93OFWITqDHifM...|2013-01-09 17:42:...|\n",
            "|66ea4866e59c7c5b6...|--ZVrH2X2QXBFdCil...|2010-08-12 18:21:...|\n",
            "|66ea4866e59c7c5b6...|--ZWv8kGlM2YL58uK...|2010-10-13 18:41:...|\n",
            "+--------------------+--------------------+--------------------+\n",
            "only showing top 20 rows\n",
            "\n",
            "Execution ended at: 2024-10-11 23:04:40\n",
            "Execution time: 20.19 seconds\n"
          ]
        }
      ],
      "source": [
        "# Start time\n",
        "start_time = time.time()\n",
        "print(f\"Execution started at: {time.strftime('%Y-%m-%d %H:%M:%S', time.localtime(start_time))}\")\n",
        "\n",
        "# Read the CSV data\n",
        "df = spark.read.csv(\"/content/drive/MyDrive/CSV/yelp_checkin.csv\", header=True, inferSchema=True)\n",
        "\n",
        "# Display the entire dataframe (use with caution for large datasets)\n",
        "df.show()\n",
        "\n",
        "# End time\n",
        "end_time = time.time()\n",
        "print(f\"Execution ended at: {time.strftime('%Y-%m-%d %H:%M:%S', time.localtime(end_time))}\")\n",
        "\n",
        "# Calculate and print the execution time\n",
        "execution_time = end_time - start_time\n",
        "print(f\"Execution time: {execution_time:.2f} seconds\")\n"
      ]
    },
    {
      "cell_type": "code",
      "execution_count": null,
      "metadata": {
        "id": "hmKYkkpGa2ls",
        "colab": {
          "base_uri": "https://localhost:8080/"
        },
        "outputId": "0e36f27b-c543-400f-8b05-7af5d2e52b96"
      },
      "outputs": [
        {
          "output_type": "stream",
          "name": "stdout",
          "text": [
            "Total records in the dataframe: 131930\n"
          ]
        }
      ],
      "source": [
        "# total records in the dataframe\n",
        "\n",
        "total_records = df.count()\n",
        "print(f\"Total records in the dataframe: {total_records}\")"
      ]
    },
    {
      "cell_type": "code",
      "execution_count": null,
      "metadata": {
        "id": "SAQNWOozaX5O",
        "colab": {
          "base_uri": "https://localhost:8080/"
        },
        "outputId": "59ad368a-5ad4-42ec-a218-2a2eae1411d9"
      },
      "outputs": [
        {
          "output_type": "stream",
          "name": "stdout",
          "text": [
            "+--------------------+--------------------+\n",
            "|         business_id|                date|\n",
            "+--------------------+--------------------+\n",
            "|---kPU91CF4Lq2-Wl...|2020-03-13 21:10:...|\n",
            "|--0iUa4sNDFiZFrAd...|2010-09-13 21:43:...|\n",
            "|--30_8IhuyMHbSOcN...|2013-06-14 23:29:...|\n",
            "|--7PUidqRWpRSpXeb...|2011-02-15 17:12:...|\n",
            "|--7jw19RH9JKXgFoh...|2014-04-21 20:42:...|\n",
            "|--8IbOsAAxjKRoYsB...|2015-06-06 01:03:...|\n",
            "|--9osgUCSDUWUkoTL...|2015-06-13 02:00:...|\n",
            "|--ARBQr1WMsTWiwOK...|2014-12-12 00:44:...|\n",
            "|--FWWsIwxRwuw9vIM...|2010-09-11 16:28:...|\n",
            "|--FcbSxK1AoEtEAxO...|2017-08-18 19:43:...|\n",
            "|--LC8cIrALInl2vyo...|2017-01-12 19:10:...|\n",
            "|--MbOh2O1pATkXa7x...|2013-04-21 01:52:...|\n",
            "|--N9yp3ZWqQIm7DqK...|2012-10-06 20:46:...|\n",
            "|--O3ip9NpXTKD4oBS...|2010-04-17 21:07:...|\n",
            "|--OS_I7dnABrXvRCC...| 2018-05-11 18:23:36|\n",
            "|--S43ruInmIsGrnnk...|2010-08-29 01:17:...|\n",
            "|--SJXpAa0E-GCp2sm...|2014-04-06 22:23:...|\n",
            "|--Sd93OFWITqDHifM...|2013-01-09 17:42:...|\n",
            "|--ZVrH2X2QXBFdCil...|2010-08-12 18:21:...|\n",
            "|--ZWv8kGlM2YL58uK...|2010-10-13 18:41:...|\n",
            "+--------------------+--------------------+\n",
            "only showing top 20 rows\n",
            "\n"
          ]
        }
      ],
      "source": [
        "# dropping the column _id\n",
        "\n",
        "df_checkin = df.drop('_id')\n",
        "df_checkin.show()"
      ]
    },
    {
      "cell_type": "code",
      "source": [
        "# print one value in date field fully\n",
        "\n",
        "from pyspark.sql.functions import col\n",
        "\n",
        "# Assuming 'date' is the name of your date field\n",
        "df_checkin.select(col(\"date\")).first()[0]\n"
      ],
      "metadata": {
        "colab": {
          "base_uri": "https://localhost:8080/",
          "height": 53
        },
        "id": "6VHRzkWg1ayW",
        "outputId": "ec8aaa59-87ea-489f-8153-b83ecd40b94d"
      },
      "execution_count": null,
      "outputs": [
        {
          "output_type": "execute_result",
          "data": {
            "text/plain": [
              "'2020-03-13 21:10:56, 2020-06-02 22:18:06, 2020-07-24 22:42:27, 2020-10-24 21:36:13, 2020-12-09 21:23:33, 2021-01-20 17:34:57, 2021-04-30 21:02:03, 2021-05-25 21:16:54, 2021-08-06 21:08:08, 2021-10-02 15:15:42, 2021-11-11 16:23:50'"
            ],
            "application/vnd.google.colaboratory.intrinsic+json": {
              "type": "string"
            }
          },
          "metadata": {},
          "execution_count": 30
        }
      ]
    },
    {
      "cell_type": "code",
      "source": [
        "# create and additional column total_checkin_count for each row, where the value is calculated by counting all the dates in the date field.\n",
        "\n",
        "from pyspark.sql.functions import size, split\n",
        "\n",
        "# Assuming 'date' is the name of your date field\n",
        "df_checkin_with_count = df_checkin.withColumn(\"total_checkin_count\", size(split(col(\"date\"), \",\")))\n",
        "\n",
        "df_checkin_with_count.show()\n"
      ],
      "metadata": {
        "colab": {
          "base_uri": "https://localhost:8080/"
        },
        "id": "v6_mHg9l1o7Z",
        "outputId": "e7d748c0-5d1a-4b1d-8913-bf462ebfd654"
      },
      "execution_count": null,
      "outputs": [
        {
          "output_type": "stream",
          "name": "stdout",
          "text": [
            "+--------------------+--------------------+-------------------+\n",
            "|         business_id|                date|total_checkin_count|\n",
            "+--------------------+--------------------+-------------------+\n",
            "|---kPU91CF4Lq2-Wl...|2020-03-13 21:10:...|                 11|\n",
            "|--0iUa4sNDFiZFrAd...|2010-09-13 21:43:...|                 10|\n",
            "|--30_8IhuyMHbSOcN...|2013-06-14 23:29:...|                  2|\n",
            "|--7PUidqRWpRSpXeb...|2011-02-15 17:12:...|                 10|\n",
            "|--7jw19RH9JKXgFoh...|2014-04-21 20:42:...|                 26|\n",
            "|--8IbOsAAxjKRoYsB...|2015-06-06 01:03:...|                 32|\n",
            "|--9osgUCSDUWUkoTL...|2015-06-13 02:00:...|                 24|\n",
            "|--ARBQr1WMsTWiwOK...|2014-12-12 00:44:...|                 34|\n",
            "|--FWWsIwxRwuw9vIM...|2010-09-11 16:28:...|                  7|\n",
            "|--FcbSxK1AoEtEAxO...|2017-08-18 19:43:...|                 82|\n",
            "|--LC8cIrALInl2vyo...|2017-01-12 19:10:...|                  7|\n",
            "|--MbOh2O1pATkXa7x...|2013-04-21 01:52:...|                103|\n",
            "|--N9yp3ZWqQIm7DqK...|2012-10-06 20:46:...|                  7|\n",
            "|--O3ip9NpXTKD4oBS...|2010-04-17 21:07:...|                456|\n",
            "|--OS_I7dnABrXvRCC...| 2018-05-11 18:23:36|                  1|\n",
            "|--S43ruInmIsGrnnk...|2010-08-29 01:17:...|                309|\n",
            "|--SJXpAa0E-GCp2sm...|2014-04-06 22:23:...|                 45|\n",
            "|--Sd93OFWITqDHifM...|2013-01-09 17:42:...|                 48|\n",
            "|--ZVrH2X2QXBFdCil...|2010-08-12 18:21:...|                 67|\n",
            "|--ZWv8kGlM2YL58uK...|2010-10-13 18:41:...|                 13|\n",
            "+--------------------+--------------------+-------------------+\n",
            "only showing top 20 rows\n",
            "\n"
          ]
        }
      ]
    },
    {
      "cell_type": "code",
      "source": [
        "# split the date column into 2 separate columns date and time. first trim the whole column and then split to avoid errors\n",
        "\n",
        "from pyspark.sql.functions import split, trim\n",
        "\n",
        "# Trim whitespace from the date column\n",
        "df_checkin = df_checkin_with_count.withColumn(\"date_trimmed\", trim(df_checkin_with_count[\"date\"]))\n",
        "\n",
        "# Split the trimmed date column into date and time columns\n",
        "df_checkin = df_checkin.withColumn(\"date\", split(df_checkin[\"date_trimmed\"], \" \")[0]) \\\n",
        "                     .withColumn(\"time\", split(df_checkin[\"date_trimmed\"], \" \")[1])\n",
        "\n",
        "df_checkin = df_checkin.drop(\"date_trimmed\")\n",
        "\n",
        "df_checkin.show()\n"
      ],
      "metadata": {
        "id": "d5iFoRYpJWsH",
        "colab": {
          "base_uri": "https://localhost:8080/"
        },
        "outputId": "8f97f86f-7c0f-4182-fca2-5615371ce60e"
      },
      "execution_count": null,
      "outputs": [
        {
          "output_type": "stream",
          "name": "stdout",
          "text": [
            "+--------------------+----------+-------------------+---------+\n",
            "|         business_id|      date|total_checkin_count|     time|\n",
            "+--------------------+----------+-------------------+---------+\n",
            "|---kPU91CF4Lq2-Wl...|2020-03-13|                 11|21:10:56,|\n",
            "|--0iUa4sNDFiZFrAd...|2010-09-13|                 10|21:43:09,|\n",
            "|--30_8IhuyMHbSOcN...|2013-06-14|                  2|23:29:17,|\n",
            "|--7PUidqRWpRSpXeb...|2011-02-15|                 10|17:12:00,|\n",
            "|--7jw19RH9JKXgFoh...|2014-04-21|                 26|20:42:11,|\n",
            "|--8IbOsAAxjKRoYsB...|2015-06-06|                 32|01:03:19,|\n",
            "|--9osgUCSDUWUkoTL...|2015-06-13|                 24|02:00:57,|\n",
            "|--ARBQr1WMsTWiwOK...|2014-12-12|                 34|00:44:23,|\n",
            "|--FWWsIwxRwuw9vIM...|2010-09-11|                  7|16:28:39,|\n",
            "|--FcbSxK1AoEtEAxO...|2017-08-18|                 82|19:43:50,|\n",
            "|--LC8cIrALInl2vyo...|2017-01-12|                  7|19:10:02,|\n",
            "|--MbOh2O1pATkXa7x...|2013-04-21|                103|01:52:06,|\n",
            "|--N9yp3ZWqQIm7DqK...|2012-10-06|                  7|20:46:47,|\n",
            "|--O3ip9NpXTKD4oBS...|2010-04-17|                456|21:07:32,|\n",
            "|--OS_I7dnABrXvRCC...|2018-05-11|                  1| 18:23:36|\n",
            "|--S43ruInmIsGrnnk...|2010-08-29|                309|01:17:44,|\n",
            "|--SJXpAa0E-GCp2sm...|2014-04-06|                 45|22:23:56,|\n",
            "|--Sd93OFWITqDHifM...|2013-01-09|                 48|17:42:28,|\n",
            "|--ZVrH2X2QXBFdCil...|2010-08-12|                 67|18:21:29,|\n",
            "|--ZWv8kGlM2YL58uK...|2010-10-13|                 13|18:41:45,|\n",
            "+--------------------+----------+-------------------+---------+\n",
            "only showing top 20 rows\n",
            "\n"
          ]
        }
      ]
    },
    {
      "cell_type": "code",
      "source": [
        "# write this as a csv in /content/drive/MyDrive/ProcessedCSV name it checkin.csv\n",
        "\n",
        "# Write the DataFrame to a CSV file in your Google Drive\n",
        "df_checkin.write.csv(\"/content/drive/MyDrive/ProcessedCSV/checkin.csv\", header=True)\n"
      ],
      "metadata": {
        "id": "iY6X6MUk1Muj"
      },
      "execution_count": null,
      "outputs": []
    },
    {
      "cell_type": "code",
      "source": [],
      "metadata": {
        "id": "bUeOQ24K3lVH"
      },
      "execution_count": null,
      "outputs": []
    }
  ],
  "metadata": {
    "colab": {
      "provenance": [],
      "mount_file_id": "1OoisQonpr6QO-IRp5ko-LsDM4CyLyPWV",
      "authorship_tag": "ABX9TyOleZaHDHnDe/bA+QJbhm6F",
      "include_colab_link": true
    },
    "kernelspec": {
      "display_name": "Python 3",
      "name": "python3"
    },
    "language_info": {
      "name": "python"
    }
  },
  "nbformat": 4,
  "nbformat_minor": 0
}